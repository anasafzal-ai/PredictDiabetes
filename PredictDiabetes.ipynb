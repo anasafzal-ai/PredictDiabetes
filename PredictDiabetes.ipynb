{
 "cells": [
  {
   "cell_type": "code",
   "execution_count": 1,
   "metadata": {},
   "outputs": [],
   "source": [
    "#import the necessary libraries\n",
    "import numpy as np\n",
    "import pandas as pd\n",
    "import matplotlib.pyplot as plt\n",
    "import pickle as pl\n",
    "import os\n",
    "import urllib"
   ]
  },
  {
   "cell_type": "code",
   "execution_count": 2,
   "metadata": {},
   "outputs": [],
   "source": [
    "# fetch and load the data\n",
    "DATA_SOURCE_ROOT = \"https://raw.githubusercontent.com/anasafzal-ai/PredictDiabetes/main/\"\n",
    "DIR_PATH = os.path.join(\"datasets\", \"diabetes\")\n",
    "URL = DATA_SOURCE_ROOT + \"diabetes.csv\"\n",
    "\n",
    "def fetch_diabetes_dataset(url=URL, directory=DIR_PATH):\n",
    "    if not os.path.isdir(directory):\n",
    "        os.makedirs(directory)\n",
    "    csv_path = os.path.join(directory, \"diabetes.csv\")\n",
    "    urllib.request.urlretrieve(url, csv_path)\n",
    "    "
   ]
  },
  {
   "cell_type": "code",
   "execution_count": 3,
   "metadata": {},
   "outputs": [],
   "source": [
    "fetch_diabetes_dataset()\n"
   ]
  },
  {
   "cell_type": "code",
   "execution_count": 4,
   "metadata": {},
   "outputs": [],
   "source": [
    "#load the dataset into the evironment\n",
    "def load_diabetes_dataset(directory = DIR_PATH):\n",
    "    csv_path = os.path.join(directory, \"diabetes.csv\")\n",
    "    return pd.read_csv(csv_path)"
   ]
  },
  {
   "cell_type": "code",
   "execution_count": 5,
   "metadata": {},
   "outputs": [],
   "source": [
    "diabetes = load_diabetes_dataset()"
   ]
  },
  {
   "cell_type": "code",
   "execution_count": 6,
   "metadata": {},
   "outputs": [
    {
     "data": {
      "text/html": [
       "<div>\n",
       "<style scoped>\n",
       "    .dataframe tbody tr th:only-of-type {\n",
       "        vertical-align: middle;\n",
       "    }\n",
       "\n",
       "    .dataframe tbody tr th {\n",
       "        vertical-align: top;\n",
       "    }\n",
       "\n",
       "    .dataframe thead th {\n",
       "        text-align: right;\n",
       "    }\n",
       "</style>\n",
       "<table border=\"1\" class=\"dataframe\">\n",
       "  <thead>\n",
       "    <tr style=\"text-align: right;\">\n",
       "      <th></th>\n",
       "      <th>Pregnancies</th>\n",
       "      <th>Glucose</th>\n",
       "      <th>BloodPressure</th>\n",
       "      <th>SkinThickness</th>\n",
       "      <th>Insulin</th>\n",
       "      <th>BMI</th>\n",
       "      <th>DiabetesPedigreeFunction</th>\n",
       "      <th>Age</th>\n",
       "      <th>Outcome</th>\n",
       "    </tr>\n",
       "  </thead>\n",
       "  <tbody>\n",
       "    <tr>\n",
       "      <th>0</th>\n",
       "      <td>6</td>\n",
       "      <td>148</td>\n",
       "      <td>72</td>\n",
       "      <td>35</td>\n",
       "      <td>0</td>\n",
       "      <td>33.6</td>\n",
       "      <td>0.627</td>\n",
       "      <td>50</td>\n",
       "      <td>1</td>\n",
       "    </tr>\n",
       "    <tr>\n",
       "      <th>1</th>\n",
       "      <td>1</td>\n",
       "      <td>85</td>\n",
       "      <td>66</td>\n",
       "      <td>29</td>\n",
       "      <td>0</td>\n",
       "      <td>26.6</td>\n",
       "      <td>0.351</td>\n",
       "      <td>31</td>\n",
       "      <td>0</td>\n",
       "    </tr>\n",
       "    <tr>\n",
       "      <th>2</th>\n",
       "      <td>8</td>\n",
       "      <td>183</td>\n",
       "      <td>64</td>\n",
       "      <td>0</td>\n",
       "      <td>0</td>\n",
       "      <td>23.3</td>\n",
       "      <td>0.672</td>\n",
       "      <td>32</td>\n",
       "      <td>1</td>\n",
       "    </tr>\n",
       "    <tr>\n",
       "      <th>3</th>\n",
       "      <td>1</td>\n",
       "      <td>89</td>\n",
       "      <td>66</td>\n",
       "      <td>23</td>\n",
       "      <td>94</td>\n",
       "      <td>28.1</td>\n",
       "      <td>0.167</td>\n",
       "      <td>21</td>\n",
       "      <td>0</td>\n",
       "    </tr>\n",
       "    <tr>\n",
       "      <th>4</th>\n",
       "      <td>0</td>\n",
       "      <td>137</td>\n",
       "      <td>40</td>\n",
       "      <td>35</td>\n",
       "      <td>168</td>\n",
       "      <td>43.1</td>\n",
       "      <td>2.288</td>\n",
       "      <td>33</td>\n",
       "      <td>1</td>\n",
       "    </tr>\n",
       "  </tbody>\n",
       "</table>\n",
       "</div>"
      ],
      "text/plain": [
       "   Pregnancies  Glucose  BloodPressure  SkinThickness  Insulin   BMI  \\\n",
       "0            6      148             72             35        0  33.6   \n",
       "1            1       85             66             29        0  26.6   \n",
       "2            8      183             64              0        0  23.3   \n",
       "3            1       89             66             23       94  28.1   \n",
       "4            0      137             40             35      168  43.1   \n",
       "\n",
       "   DiabetesPedigreeFunction  Age  Outcome  \n",
       "0                     0.627   50        1  \n",
       "1                     0.351   31        0  \n",
       "2                     0.672   32        1  \n",
       "3                     0.167   21        0  \n",
       "4                     2.288   33        1  "
      ]
     },
     "execution_count": 6,
     "metadata": {},
     "output_type": "execute_result"
    }
   ],
   "source": [
    "#Let's take a quick look at the data structure\n",
    "diabetes.head()"
   ]
  },
  {
   "cell_type": "code",
   "execution_count": 7,
   "metadata": {},
   "outputs": [
    {
     "name": "stdout",
     "output_type": "stream",
     "text": [
      "<class 'pandas.core.frame.DataFrame'>\n",
      "RangeIndex: 768 entries, 0 to 767\n",
      "Data columns (total 9 columns):\n",
      " #   Column                    Non-Null Count  Dtype  \n",
      "---  ------                    --------------  -----  \n",
      " 0   Pregnancies               768 non-null    int64  \n",
      " 1   Glucose                   768 non-null    int64  \n",
      " 2   BloodPressure             768 non-null    int64  \n",
      " 3   SkinThickness             768 non-null    int64  \n",
      " 4   Insulin                   768 non-null    int64  \n",
      " 5   BMI                       768 non-null    float64\n",
      " 6   DiabetesPedigreeFunction  768 non-null    float64\n",
      " 7   Age                       768 non-null    int64  \n",
      " 8   Outcome                   768 non-null    int64  \n",
      "dtypes: float64(2), int64(7)\n",
      "memory usage: 54.1 KB\n"
     ]
    }
   ],
   "source": [
    "diabetes.info()\n",
    "#we can see there are all numerical attributes, with no categorical attributes. \n",
    "#We can also see at first glance that there are not any null values present in the dataset"
   ]
  },
  {
   "cell_type": "code",
   "execution_count": 8,
   "metadata": {},
   "outputs": [
    {
     "data": {
      "text/html": [
       "<div>\n",
       "<style scoped>\n",
       "    .dataframe tbody tr th:only-of-type {\n",
       "        vertical-align: middle;\n",
       "    }\n",
       "\n",
       "    .dataframe tbody tr th {\n",
       "        vertical-align: top;\n",
       "    }\n",
       "\n",
       "    .dataframe thead th {\n",
       "        text-align: right;\n",
       "    }\n",
       "</style>\n",
       "<table border=\"1\" class=\"dataframe\">\n",
       "  <thead>\n",
       "    <tr style=\"text-align: right;\">\n",
       "      <th></th>\n",
       "      <th>Pregnancies</th>\n",
       "      <th>Glucose</th>\n",
       "      <th>BloodPressure</th>\n",
       "      <th>SkinThickness</th>\n",
       "      <th>Insulin</th>\n",
       "      <th>BMI</th>\n",
       "      <th>DiabetesPedigreeFunction</th>\n",
       "      <th>Age</th>\n",
       "      <th>Outcome</th>\n",
       "    </tr>\n",
       "  </thead>\n",
       "  <tbody>\n",
       "    <tr>\n",
       "      <th>count</th>\n",
       "      <td>768.000000</td>\n",
       "      <td>768.000000</td>\n",
       "      <td>768.000000</td>\n",
       "      <td>768.000000</td>\n",
       "      <td>768.000000</td>\n",
       "      <td>768.000000</td>\n",
       "      <td>768.000000</td>\n",
       "      <td>768.000000</td>\n",
       "      <td>768.000000</td>\n",
       "    </tr>\n",
       "    <tr>\n",
       "      <th>mean</th>\n",
       "      <td>3.845052</td>\n",
       "      <td>120.894531</td>\n",
       "      <td>69.105469</td>\n",
       "      <td>20.536458</td>\n",
       "      <td>79.799479</td>\n",
       "      <td>31.992578</td>\n",
       "      <td>0.471876</td>\n",
       "      <td>33.240885</td>\n",
       "      <td>0.348958</td>\n",
       "    </tr>\n",
       "    <tr>\n",
       "      <th>std</th>\n",
       "      <td>3.369578</td>\n",
       "      <td>31.972618</td>\n",
       "      <td>19.355807</td>\n",
       "      <td>15.952218</td>\n",
       "      <td>115.244002</td>\n",
       "      <td>7.884160</td>\n",
       "      <td>0.331329</td>\n",
       "      <td>11.760232</td>\n",
       "      <td>0.476951</td>\n",
       "    </tr>\n",
       "    <tr>\n",
       "      <th>min</th>\n",
       "      <td>0.000000</td>\n",
       "      <td>0.000000</td>\n",
       "      <td>0.000000</td>\n",
       "      <td>0.000000</td>\n",
       "      <td>0.000000</td>\n",
       "      <td>0.000000</td>\n",
       "      <td>0.078000</td>\n",
       "      <td>21.000000</td>\n",
       "      <td>0.000000</td>\n",
       "    </tr>\n",
       "    <tr>\n",
       "      <th>25%</th>\n",
       "      <td>1.000000</td>\n",
       "      <td>99.000000</td>\n",
       "      <td>62.000000</td>\n",
       "      <td>0.000000</td>\n",
       "      <td>0.000000</td>\n",
       "      <td>27.300000</td>\n",
       "      <td>0.243750</td>\n",
       "      <td>24.000000</td>\n",
       "      <td>0.000000</td>\n",
       "    </tr>\n",
       "    <tr>\n",
       "      <th>50%</th>\n",
       "      <td>3.000000</td>\n",
       "      <td>117.000000</td>\n",
       "      <td>72.000000</td>\n",
       "      <td>23.000000</td>\n",
       "      <td>30.500000</td>\n",
       "      <td>32.000000</td>\n",
       "      <td>0.372500</td>\n",
       "      <td>29.000000</td>\n",
       "      <td>0.000000</td>\n",
       "    </tr>\n",
       "    <tr>\n",
       "      <th>75%</th>\n",
       "      <td>6.000000</td>\n",
       "      <td>140.250000</td>\n",
       "      <td>80.000000</td>\n",
       "      <td>32.000000</td>\n",
       "      <td>127.250000</td>\n",
       "      <td>36.600000</td>\n",
       "      <td>0.626250</td>\n",
       "      <td>41.000000</td>\n",
       "      <td>1.000000</td>\n",
       "    </tr>\n",
       "    <tr>\n",
       "      <th>max</th>\n",
       "      <td>17.000000</td>\n",
       "      <td>199.000000</td>\n",
       "      <td>122.000000</td>\n",
       "      <td>99.000000</td>\n",
       "      <td>846.000000</td>\n",
       "      <td>67.100000</td>\n",
       "      <td>2.420000</td>\n",
       "      <td>81.000000</td>\n",
       "      <td>1.000000</td>\n",
       "    </tr>\n",
       "  </tbody>\n",
       "</table>\n",
       "</div>"
      ],
      "text/plain": [
       "       Pregnancies     Glucose  BloodPressure  SkinThickness     Insulin  \\\n",
       "count   768.000000  768.000000     768.000000     768.000000  768.000000   \n",
       "mean      3.845052  120.894531      69.105469      20.536458   79.799479   \n",
       "std       3.369578   31.972618      19.355807      15.952218  115.244002   \n",
       "min       0.000000    0.000000       0.000000       0.000000    0.000000   \n",
       "25%       1.000000   99.000000      62.000000       0.000000    0.000000   \n",
       "50%       3.000000  117.000000      72.000000      23.000000   30.500000   \n",
       "75%       6.000000  140.250000      80.000000      32.000000  127.250000   \n",
       "max      17.000000  199.000000     122.000000      99.000000  846.000000   \n",
       "\n",
       "              BMI  DiabetesPedigreeFunction         Age     Outcome  \n",
       "count  768.000000                768.000000  768.000000  768.000000  \n",
       "mean    31.992578                  0.471876   33.240885    0.348958  \n",
       "std      7.884160                  0.331329   11.760232    0.476951  \n",
       "min      0.000000                  0.078000   21.000000    0.000000  \n",
       "25%     27.300000                  0.243750   24.000000    0.000000  \n",
       "50%     32.000000                  0.372500   29.000000    0.000000  \n",
       "75%     36.600000                  0.626250   41.000000    1.000000  \n",
       "max     67.100000                  2.420000   81.000000    1.000000  "
      ]
     },
     "execution_count": 8,
     "metadata": {},
     "output_type": "execute_result"
    }
   ],
   "source": [
    "diabetes.describe()"
   ]
  },
  {
   "cell_type": "code",
   "execution_count": 9,
   "metadata": {},
   "outputs": [
    {
     "data": {
      "image/png": "[encoded data removed]",
      "text/plain": [
       "<Figure size 1440x1080 with 9 Axes>"
      ]
     },
     "metadata": {
      "needs_background": "light"
     },
     "output_type": "display_data"
    }
   ],
   "source": [
    "#plot a histogram for each numerical attribute\n",
    "diabetes.hist(bins=50, figsize=(20,15))\n",
    "plt.show()"
   ]
  },
  {
   "cell_type": "code",
   "execution_count": 10,
   "metadata": {},
   "outputs": [],
   "source": [
    "# There are a few things noticeable from these histograms:\n",
    "\n",
    "# 1. There are a number of attributes which have a value of 0, that in reality should not be possible. The data has \n",
    "# most likely been subjected to imputation, where missing data has been replaced with the value 0. Working with \n",
    "# preprocessed data is quite common and not necessarily a problem in this case, but it's always good to understand \n",
    "# how this data has been gathered.\n",
    "\n",
    "# 2. The range of pregancies is incredibly high from 0 all the way 17 as is the Blood Pressure (20-120), BMI (20-60), \n",
    "# and Glucose 2hr value range of between (50-200). \n",
    "\n",
    "# 3. These attributes have very different scales. Will need to apply feature scaling techniques later. \n",
    "\n",
    "# 4. There are a clear mixture of tail-heavy,symmetric unimodal, and bimodal histograms. This may make it harder for\n",
    "# some Machine Learning models to detect patterns. Will need to transform these features so that they are more \n",
    "# unimodal in their distribution.\n"
   ]
  },
  {
   "cell_type": "code",
   "execution_count": 11,
   "metadata": {},
   "outputs": [
    {
     "data": {
      "text/plain": [
       "<function matplotlib.pyplot.show(close=None, block=None)>"
      ]
     },
     "execution_count": 11,
     "metadata": {},
     "output_type": "execute_result"
    },
    {
     "data": {
      "image/png": "[encoded data removed]",
      "text/plain": [
       "<Figure size 936x792 with 9 Axes>"
      ]
     },
     "metadata": {
      "needs_background": "light"
     },
     "output_type": "display_data"
    }
   ],
   "source": [
    "diabetes.plot(kind= 'box' , subplots=True, layout=(3,3), figsize=(13,11))\n",
    "plt.show"
   ]
  },
  {
   "cell_type": "code",
   "execution_count": 12,
   "metadata": {},
   "outputs": [],
   "source": [
    "#As we can see there are definitely many outliers in this dataset, particularly\n",
    "#With Pregnancies, Insulin, BMI & Blood Pressure.\n",
    "#We may need to clip some of these features later on "
   ]
  },
  {
   "cell_type": "code",
   "execution_count": 13,
   "metadata": {},
   "outputs": [],
   "source": [
    "#Let's create a test set, before we investigate the data any further to eliminate \"data snooping\" bias. \n",
    "import sklearn\n",
    "from sklearn.model_selection import train_test_split\n",
    "\n",
    "train_set, test_set = train_test_split(diabetes, test_size = 0.15, random_state=42)"
   ]
  },
  {
   "cell_type": "code",
   "execution_count": 14,
   "metadata": {},
   "outputs": [
    {
     "data": {
      "text/html": [
       "<div>\n",
       "<style scoped>\n",
       "    .dataframe tbody tr th:only-of-type {\n",
       "        vertical-align: middle;\n",
       "    }\n",
       "\n",
       "    .dataframe tbody tr th {\n",
       "        vertical-align: top;\n",
       "    }\n",
       "\n",
       "    .dataframe thead th {\n",
       "        text-align: right;\n",
       "    }\n",
       "</style>\n",
       "<table border=\"1\" class=\"dataframe\">\n",
       "  <thead>\n",
       "    <tr style=\"text-align: right;\">\n",
       "      <th></th>\n",
       "      <th>Pregnancies</th>\n",
       "      <th>Glucose</th>\n",
       "      <th>BloodPressure</th>\n",
       "      <th>SkinThickness</th>\n",
       "      <th>Insulin</th>\n",
       "      <th>BMI</th>\n",
       "      <th>DiabetesPedigreeFunction</th>\n",
       "      <th>Age</th>\n",
       "      <th>Outcome</th>\n",
       "    </tr>\n",
       "  </thead>\n",
       "  <tbody>\n",
       "    <tr>\n",
       "      <th>227</th>\n",
       "      <td>3</td>\n",
       "      <td>162</td>\n",
       "      <td>52</td>\n",
       "      <td>38</td>\n",
       "      <td>0</td>\n",
       "      <td>37.2</td>\n",
       "      <td>0.652</td>\n",
       "      <td>24</td>\n",
       "      <td>1</td>\n",
       "    </tr>\n",
       "    <tr>\n",
       "      <th>168</th>\n",
       "      <td>4</td>\n",
       "      <td>110</td>\n",
       "      <td>66</td>\n",
       "      <td>0</td>\n",
       "      <td>0</td>\n",
       "      <td>31.9</td>\n",
       "      <td>0.471</td>\n",
       "      <td>29</td>\n",
       "      <td>0</td>\n",
       "    </tr>\n",
       "    <tr>\n",
       "      <th>513</th>\n",
       "      <td>2</td>\n",
       "      <td>91</td>\n",
       "      <td>62</td>\n",
       "      <td>0</td>\n",
       "      <td>0</td>\n",
       "      <td>27.3</td>\n",
       "      <td>0.525</td>\n",
       "      <td>22</td>\n",
       "      <td>0</td>\n",
       "    </tr>\n",
       "    <tr>\n",
       "      <th>7</th>\n",
       "      <td>10</td>\n",
       "      <td>115</td>\n",
       "      <td>0</td>\n",
       "      <td>0</td>\n",
       "      <td>0</td>\n",
       "      <td>35.3</td>\n",
       "      <td>0.134</td>\n",
       "      <td>29</td>\n",
       "      <td>0</td>\n",
       "    </tr>\n",
       "    <tr>\n",
       "      <th>196</th>\n",
       "      <td>1</td>\n",
       "      <td>105</td>\n",
       "      <td>58</td>\n",
       "      <td>0</td>\n",
       "      <td>0</td>\n",
       "      <td>24.3</td>\n",
       "      <td>0.187</td>\n",
       "      <td>21</td>\n",
       "      <td>0</td>\n",
       "    </tr>\n",
       "    <tr>\n",
       "      <th>...</th>\n",
       "      <td>...</td>\n",
       "      <td>...</td>\n",
       "      <td>...</td>\n",
       "      <td>...</td>\n",
       "      <td>...</td>\n",
       "      <td>...</td>\n",
       "      <td>...</td>\n",
       "      <td>...</td>\n",
       "      <td>...</td>\n",
       "    </tr>\n",
       "    <tr>\n",
       "      <th>71</th>\n",
       "      <td>5</td>\n",
       "      <td>139</td>\n",
       "      <td>64</td>\n",
       "      <td>35</td>\n",
       "      <td>140</td>\n",
       "      <td>28.6</td>\n",
       "      <td>0.411</td>\n",
       "      <td>26</td>\n",
       "      <td>0</td>\n",
       "    </tr>\n",
       "    <tr>\n",
       "      <th>106</th>\n",
       "      <td>1</td>\n",
       "      <td>96</td>\n",
       "      <td>122</td>\n",
       "      <td>0</td>\n",
       "      <td>0</td>\n",
       "      <td>22.4</td>\n",
       "      <td>0.207</td>\n",
       "      <td>27</td>\n",
       "      <td>0</td>\n",
       "    </tr>\n",
       "    <tr>\n",
       "      <th>270</th>\n",
       "      <td>10</td>\n",
       "      <td>101</td>\n",
       "      <td>86</td>\n",
       "      <td>37</td>\n",
       "      <td>0</td>\n",
       "      <td>45.6</td>\n",
       "      <td>1.136</td>\n",
       "      <td>38</td>\n",
       "      <td>1</td>\n",
       "    </tr>\n",
       "    <tr>\n",
       "      <th>435</th>\n",
       "      <td>0</td>\n",
       "      <td>141</td>\n",
       "      <td>0</td>\n",
       "      <td>0</td>\n",
       "      <td>0</td>\n",
       "      <td>42.4</td>\n",
       "      <td>0.205</td>\n",
       "      <td>29</td>\n",
       "      <td>1</td>\n",
       "    </tr>\n",
       "    <tr>\n",
       "      <th>102</th>\n",
       "      <td>0</td>\n",
       "      <td>125</td>\n",
       "      <td>96</td>\n",
       "      <td>0</td>\n",
       "      <td>0</td>\n",
       "      <td>22.5</td>\n",
       "      <td>0.262</td>\n",
       "      <td>21</td>\n",
       "      <td>0</td>\n",
       "    </tr>\n",
       "  </tbody>\n",
       "</table>\n",
       "<p>652 rows × 9 columns</p>\n",
       "</div>"
      ],
      "text/plain": [
       "     Pregnancies  Glucose  BloodPressure  SkinThickness  Insulin   BMI  \\\n",
       "227            3      162             52             38        0  37.2   \n",
       "168            4      110             66              0        0  31.9   \n",
       "513            2       91             62              0        0  27.3   \n",
       "7             10      115              0              0        0  35.3   \n",
       "196            1      105             58              0        0  24.3   \n",
       "..           ...      ...            ...            ...      ...   ...   \n",
       "71             5      139             64             35      140  28.6   \n",
       "106            1       96            122              0        0  22.4   \n",
       "270           10      101             86             37        0  45.6   \n",
       "435            0      141              0              0        0  42.4   \n",
       "102            0      125             96              0        0  22.5   \n",
       "\n",
       "     DiabetesPedigreeFunction  Age  Outcome  \n",
       "227                     0.652   24        1  \n",
       "168                     0.471   29        0  \n",
       "513                     0.525   22        0  \n",
       "7                       0.134   29        0  \n",
       "196                     0.187   21        0  \n",
       "..                        ...  ...      ...  \n",
       "71                      0.411   26        0  \n",
       "106                     0.207   27        0  \n",
       "270                     1.136   38        1  \n",
       "435                     0.205   29        1  \n",
       "102                     0.262   21        0  \n",
       "\n",
       "[652 rows x 9 columns]"
      ]
     },
     "execution_count": 14,
     "metadata": {},
     "output_type": "execute_result"
    }
   ],
   "source": [
    "train_set"
   ]
  },
  {
   "cell_type": "code",
   "execution_count": 15,
   "metadata": {},
   "outputs": [
    {
     "data": {
      "text/html": [
       "<div>\n",
       "<style scoped>\n",
       "    .dataframe tbody tr th:only-of-type {\n",
       "        vertical-align: middle;\n",
       "    }\n",
       "\n",
       "    .dataframe tbody tr th {\n",
       "        vertical-align: top;\n",
       "    }\n",
       "\n",
       "    .dataframe thead th {\n",
       "        text-align: right;\n",
       "    }\n",
       "</style>\n",
       "<table border=\"1\" class=\"dataframe\">\n",
       "  <thead>\n",
       "    <tr style=\"text-align: right;\">\n",
       "      <th></th>\n",
       "      <th>Pregnancies</th>\n",
       "      <th>Glucose</th>\n",
       "      <th>BloodPressure</th>\n",
       "      <th>SkinThickness</th>\n",
       "      <th>Insulin</th>\n",
       "      <th>BMI</th>\n",
       "      <th>DiabetesPedigreeFunction</th>\n",
       "      <th>Age</th>\n",
       "      <th>Outcome</th>\n",
       "    </tr>\n",
       "  </thead>\n",
       "  <tbody>\n",
       "    <tr>\n",
       "      <th>668</th>\n",
       "      <td>6</td>\n",
       "      <td>98</td>\n",
       "      <td>58</td>\n",
       "      <td>33</td>\n",
       "      <td>190</td>\n",
       "      <td>34.0</td>\n",
       "      <td>0.430</td>\n",
       "      <td>43</td>\n",
       "      <td>0</td>\n",
       "    </tr>\n",
       "    <tr>\n",
       "      <th>324</th>\n",
       "      <td>2</td>\n",
       "      <td>112</td>\n",
       "      <td>75</td>\n",
       "      <td>32</td>\n",
       "      <td>0</td>\n",
       "      <td>35.7</td>\n",
       "      <td>0.148</td>\n",
       "      <td>21</td>\n",
       "      <td>0</td>\n",
       "    </tr>\n",
       "    <tr>\n",
       "      <th>624</th>\n",
       "      <td>2</td>\n",
       "      <td>108</td>\n",
       "      <td>64</td>\n",
       "      <td>0</td>\n",
       "      <td>0</td>\n",
       "      <td>30.8</td>\n",
       "      <td>0.158</td>\n",
       "      <td>21</td>\n",
       "      <td>0</td>\n",
       "    </tr>\n",
       "    <tr>\n",
       "      <th>690</th>\n",
       "      <td>8</td>\n",
       "      <td>107</td>\n",
       "      <td>80</td>\n",
       "      <td>0</td>\n",
       "      <td>0</td>\n",
       "      <td>24.6</td>\n",
       "      <td>0.856</td>\n",
       "      <td>34</td>\n",
       "      <td>0</td>\n",
       "    </tr>\n",
       "    <tr>\n",
       "      <th>473</th>\n",
       "      <td>7</td>\n",
       "      <td>136</td>\n",
       "      <td>90</td>\n",
       "      <td>0</td>\n",
       "      <td>0</td>\n",
       "      <td>29.9</td>\n",
       "      <td>0.210</td>\n",
       "      <td>50</td>\n",
       "      <td>0</td>\n",
       "    </tr>\n",
       "    <tr>\n",
       "      <th>...</th>\n",
       "      <td>...</td>\n",
       "      <td>...</td>\n",
       "      <td>...</td>\n",
       "      <td>...</td>\n",
       "      <td>...</td>\n",
       "      <td>...</td>\n",
       "      <td>...</td>\n",
       "      <td>...</td>\n",
       "      <td>...</td>\n",
       "    </tr>\n",
       "    <tr>\n",
       "      <th>728</th>\n",
       "      <td>2</td>\n",
       "      <td>175</td>\n",
       "      <td>88</td>\n",
       "      <td>0</td>\n",
       "      <td>0</td>\n",
       "      <td>22.9</td>\n",
       "      <td>0.326</td>\n",
       "      <td>22</td>\n",
       "      <td>0</td>\n",
       "    </tr>\n",
       "    <tr>\n",
       "      <th>49</th>\n",
       "      <td>7</td>\n",
       "      <td>105</td>\n",
       "      <td>0</td>\n",
       "      <td>0</td>\n",
       "      <td>0</td>\n",
       "      <td>0.0</td>\n",
       "      <td>0.305</td>\n",
       "      <td>24</td>\n",
       "      <td>0</td>\n",
       "    </tr>\n",
       "    <tr>\n",
       "      <th>662</th>\n",
       "      <td>8</td>\n",
       "      <td>167</td>\n",
       "      <td>106</td>\n",
       "      <td>46</td>\n",
       "      <td>231</td>\n",
       "      <td>37.6</td>\n",
       "      <td>0.165</td>\n",
       "      <td>43</td>\n",
       "      <td>1</td>\n",
       "    </tr>\n",
       "    <tr>\n",
       "      <th>411</th>\n",
       "      <td>1</td>\n",
       "      <td>112</td>\n",
       "      <td>72</td>\n",
       "      <td>30</td>\n",
       "      <td>176</td>\n",
       "      <td>34.4</td>\n",
       "      <td>0.528</td>\n",
       "      <td>25</td>\n",
       "      <td>0</td>\n",
       "    </tr>\n",
       "    <tr>\n",
       "      <th>605</th>\n",
       "      <td>1</td>\n",
       "      <td>124</td>\n",
       "      <td>60</td>\n",
       "      <td>32</td>\n",
       "      <td>0</td>\n",
       "      <td>35.8</td>\n",
       "      <td>0.514</td>\n",
       "      <td>21</td>\n",
       "      <td>0</td>\n",
       "    </tr>\n",
       "  </tbody>\n",
       "</table>\n",
       "<p>116 rows × 9 columns</p>\n",
       "</div>"
      ],
      "text/plain": [
       "     Pregnancies  Glucose  BloodPressure  SkinThickness  Insulin   BMI  \\\n",
       "668            6       98             58             33      190  34.0   \n",
       "324            2      112             75             32        0  35.7   \n",
       "624            2      108             64              0        0  30.8   \n",
       "690            8      107             80              0        0  24.6   \n",
       "473            7      136             90              0        0  29.9   \n",
       "..           ...      ...            ...            ...      ...   ...   \n",
       "728            2      175             88              0        0  22.9   \n",
       "49             7      105              0              0        0   0.0   \n",
       "662            8      167            106             46      231  37.6   \n",
       "411            1      112             72             30      176  34.4   \n",
       "605            1      124             60             32        0  35.8   \n",
       "\n",
       "     DiabetesPedigreeFunction  Age  Outcome  \n",
       "668                     0.430   43        0  \n",
       "324                     0.148   21        0  \n",
       "624                     0.158   21        0  \n",
       "690                     0.856   34        0  \n",
       "473                     0.210   50        0  \n",
       "..                        ...  ...      ...  \n",
       "728                     0.326   22        0  \n",
       "49                      0.305   24        0  \n",
       "662                     0.165   43        1  \n",
       "411                     0.528   25        0  \n",
       "605                     0.514   21        0  \n",
       "\n",
       "[116 rows x 9 columns]"
      ]
     },
     "execution_count": 15,
     "metadata": {},
     "output_type": "execute_result"
    }
   ],
   "source": [
    "test_set"
   ]
  },
  {
   "cell_type": "code",
   "execution_count": 16,
   "metadata": {},
   "outputs": [],
   "source": [
    "#Since we dont have a large enough dataset, we risk introducing significant sampling bias. \n",
    "#Thus, to ensure that the right number of instances are samples from each stratum to ensure that the test set \n",
    "#represents the overall population, we should use stratified sampling. \n",
    "#From researching the available attributes and their relation, in terms of importance in being used for \n",
    "#predicting diabetes, you know that the Glucose Tolerance Test (GTT) is an incredibly important attribute. \n",
    "#As GTT is a method which can help to diagnose instances of diabetes mellitus or insulin resistance.\n",
    "# The GTT results should show that:\n",
    "# At 2hrs, people without diabetes will be under 140 mg/dL\n",
    "# At 2hrs, people at risk of diabetes (prediabetes) will be 140 and 199 mg/dL\n",
    "# At 2hrs, people at diabetic levels will be over 200 mg/dL\n",
    "# So, we should ensure that the test set is representative of the various categories of GTT in the whole dataset\n",
    "# Since the Glucose attribute is a continuous numerical attribute, we need to first create a \n",
    "# Glucose Category attribute.\n",
    "\n",
    "diabetes['Glucose_Category'] = pd.cut(diabetes['Glucose'], \n",
    "                                     bins = [0.0, 140.0, 199.0], \n",
    "                                     labels = [1, 2])\n",
    "\n",
    "\n",
    "#There were some NaN values created for those rows with Glucose = 0, so let's ensure they also get captured\n",
    "for index, row in diabetes.iterrows():\n",
    "    if row['Glucose'] == 0:\n",
    "        diabetes.at[index,'Glucose_Category'] = 1\n",
    "        \n",
    "\n"
   ]
  },
  {
   "cell_type": "code",
   "execution_count": 17,
   "metadata": {},
   "outputs": [
    {
     "data": {
      "text/plain": [
       "1    576\n",
       "2    192\n",
       "Name: Glucose_Category, dtype: int64"
      ]
     },
     "execution_count": 17,
     "metadata": {},
     "output_type": "execute_result"
    }
   ],
   "source": [
    "diabetes['Glucose_Category'].value_counts()"
   ]
  },
  {
   "cell_type": "code",
   "execution_count": 18,
   "metadata": {},
   "outputs": [],
   "source": [
    "#Now we're ready to do stratified sampling based on the GTT.\n",
    "\n",
    "from sklearn.model_selection import StratifiedShuffleSplit\n",
    "\n",
    "strat_shuff_split = StratifiedShuffleSplit(n_splits=1, test_size=0.15, random_state=42)\n",
    "\n",
    "for train_index, test_index in strat_shuff_split.split(diabetes, diabetes['Glucose_Category']):\n",
    "    strat_train_set = diabetes.loc[train_index]\n",
    "    strat_test_set = diabetes.loc[test_index]"
   ]
  },
  {
   "cell_type": "code",
   "execution_count": 19,
   "metadata": {},
   "outputs": [
    {
     "name": "stdout",
     "output_type": "stream",
     "text": [
      "The Proportions For The Test Set is:\n",
      "1    0.75\n",
      "2    0.25\n",
      "Name: Glucose_Category, dtype: float64 \n",
      " The Proportions For The Original Dataset is: \n",
      "1    0.75\n",
      "2    0.25\n",
      "Name: Glucose_Category, dtype: float64\n"
     ]
    }
   ],
   "source": [
    "#Let's check to see if this worked as expected:\n",
    "\n",
    "test_stratified_proportions = strat_test_set['Glucose_Category'].value_counts() / len(strat_test_set)\n",
    "\n",
    "original_dataset_proportions = diabetes['Glucose_Category'].value_counts() / len(diabetes)\n",
    "\n",
    "print(f'The Proportions For The Test Set is:\\n{test_stratified_proportions} \\n The Proportions For The Original Dataset is: \\n{original_dataset_proportions}')"
   ]
  },
  {
   "cell_type": "code",
   "execution_count": 20,
   "metadata": {},
   "outputs": [],
   "source": [
    "#Now that our test set, using Stratified Sampling,  has Glucose Category proportions identical to that in the \n",
    "#origninal dataset, let's remove the \"Glucose_Category\" attribute so the data is back to it's orgininal state:\n",
    "\n",
    "for i in (strat_train_set, strat_test_set):\n",
    "    i.drop(\"Glucose_Category\", axis=1, inplace=True)"
   ]
  },
  {
   "cell_type": "code",
   "execution_count": 21,
   "metadata": {},
   "outputs": [
    {
     "data": {
      "text/plain": [
       "<AxesSubplot:xlabel='Glucose', ylabel='Age'>"
      ]
     },
     "execution_count": 21,
     "metadata": {},
     "output_type": "execute_result"
    },
    {
     "data": {
      "image/png": "[encoded data removed]",
      "text/plain": [
       "<Figure size 432x288 with 1 Axes>"
      ]
     },
     "metadata": {
      "needs_background": "light"
     },
     "output_type": "display_data"
    }
   ],
   "source": [
    "#Discover & Visualise The Data To Gain Insights\n",
    "diabetes.plot(kind='scatter', x='Glucose', y='Age')"
   ]
  },
  {
   "cell_type": "code",
   "execution_count": 22,
   "metadata": {},
   "outputs": [
    {
     "data": {
      "text/plain": [
       "<AxesSubplot:xlabel='BMI', ylabel='Glucose'>"
      ]
     },
     "execution_count": 22,
     "metadata": {},
     "output_type": "execute_result"
    },
    {
     "data": {
      "image/png": "[encoded data removed]",
      "text/plain": [
       "<Figure size 432x288 with 1 Axes>"
      ]
     },
     "metadata": {
      "needs_background": "light"
     },
     "output_type": "display_data"
    }
   ],
   "source": [
    "diabetes.plot(kind='scatter', x='BMI', y='Glucose')"
   ]
  },
  {
   "cell_type": "code",
   "execution_count": 23,
   "metadata": {},
   "outputs": [
    {
     "data": {
      "text/plain": [
       "<AxesSubplot:xlabel='Glucose', ylabel='Insulin'>"
      ]
     },
     "execution_count": 23,
     "metadata": {},
     "output_type": "execute_result"
    },
    {
     "data": {
      "image/png": "[encoded data removed]",
      "text/plain": [
       "<Figure size 432x288 with 1 Axes>"
      ]
     },
     "metadata": {
      "needs_background": "light"
     },
     "output_type": "display_data"
    }
   ],
   "source": [
    "diabetes.plot(kind='scatter', x='Glucose', y='Insulin')"
   ]
  },
  {
   "cell_type": "code",
   "execution_count": 24,
   "metadata": {},
   "outputs": [
    {
     "data": {
      "text/plain": [
       "<AxesSubplot:xlabel='Age', ylabel='BMI'>"
      ]
     },
     "execution_count": 24,
     "metadata": {},
     "output_type": "execute_result"
    },
    {
     "data": {
      "image/png": "[encoded data removed]",
      "text/plain": [
       "<Figure size 432x288 with 1 Axes>"
      ]
     },
     "metadata": {
      "needs_background": "light"
     },
     "output_type": "display_data"
    }
   ],
   "source": [
    "diabetes.plot(kind='scatter', x='Age', y='BMI')"
   ]
  },
  {
   "cell_type": "code",
   "execution_count": 25,
   "metadata": {},
   "outputs": [],
   "source": [
    "#Let's look at some correlations\n",
    "corr_matrix = diabetes.corr()"
   ]
  },
  {
   "cell_type": "code",
   "execution_count": 26,
   "metadata": {},
   "outputs": [
    {
     "data": {
      "text/html": [
       "<div>\n",
       "<style scoped>\n",
       "    .dataframe tbody tr th:only-of-type {\n",
       "        vertical-align: middle;\n",
       "    }\n",
       "\n",
       "    .dataframe tbody tr th {\n",
       "        vertical-align: top;\n",
       "    }\n",
       "\n",
       "    .dataframe thead th {\n",
       "        text-align: right;\n",
       "    }\n",
       "</style>\n",
       "<table border=\"1\" class=\"dataframe\">\n",
       "  <thead>\n",
       "    <tr style=\"text-align: right;\">\n",
       "      <th></th>\n",
       "      <th>Pregnancies</th>\n",
       "      <th>Glucose</th>\n",
       "      <th>BloodPressure</th>\n",
       "      <th>SkinThickness</th>\n",
       "      <th>Insulin</th>\n",
       "      <th>BMI</th>\n",
       "      <th>DiabetesPedigreeFunction</th>\n",
       "      <th>Age</th>\n",
       "      <th>Outcome</th>\n",
       "    </tr>\n",
       "  </thead>\n",
       "  <tbody>\n",
       "    <tr>\n",
       "      <th>Pregnancies</th>\n",
       "      <td>1.000000</td>\n",
       "      <td>0.129459</td>\n",
       "      <td>0.141282</td>\n",
       "      <td>-0.081672</td>\n",
       "      <td>-0.073535</td>\n",
       "      <td>0.017683</td>\n",
       "      <td>-0.033523</td>\n",
       "      <td>0.544341</td>\n",
       "      <td>0.221898</td>\n",
       "    </tr>\n",
       "    <tr>\n",
       "      <th>Glucose</th>\n",
       "      <td>0.129459</td>\n",
       "      <td>1.000000</td>\n",
       "      <td>0.152590</td>\n",
       "      <td>0.057328</td>\n",
       "      <td>0.331357</td>\n",
       "      <td>0.221071</td>\n",
       "      <td>0.137337</td>\n",
       "      <td>0.263514</td>\n",
       "      <td>0.466581</td>\n",
       "    </tr>\n",
       "    <tr>\n",
       "      <th>BloodPressure</th>\n",
       "      <td>0.141282</td>\n",
       "      <td>0.152590</td>\n",
       "      <td>1.000000</td>\n",
       "      <td>0.207371</td>\n",
       "      <td>0.088933</td>\n",
       "      <td>0.281805</td>\n",
       "      <td>0.041265</td>\n",
       "      <td>0.239528</td>\n",
       "      <td>0.065068</td>\n",
       "    </tr>\n",
       "    <tr>\n",
       "      <th>SkinThickness</th>\n",
       "      <td>-0.081672</td>\n",
       "      <td>0.057328</td>\n",
       "      <td>0.207371</td>\n",
       "      <td>1.000000</td>\n",
       "      <td>0.436783</td>\n",
       "      <td>0.392573</td>\n",
       "      <td>0.183928</td>\n",
       "      <td>-0.113970</td>\n",
       "      <td>0.074752</td>\n",
       "    </tr>\n",
       "    <tr>\n",
       "      <th>Insulin</th>\n",
       "      <td>-0.073535</td>\n",
       "      <td>0.331357</td>\n",
       "      <td>0.088933</td>\n",
       "      <td>0.436783</td>\n",
       "      <td>1.000000</td>\n",
       "      <td>0.197859</td>\n",
       "      <td>0.185071</td>\n",
       "      <td>-0.042163</td>\n",
       "      <td>0.130548</td>\n",
       "    </tr>\n",
       "    <tr>\n",
       "      <th>BMI</th>\n",
       "      <td>0.017683</td>\n",
       "      <td>0.221071</td>\n",
       "      <td>0.281805</td>\n",
       "      <td>0.392573</td>\n",
       "      <td>0.197859</td>\n",
       "      <td>1.000000</td>\n",
       "      <td>0.140647</td>\n",
       "      <td>0.036242</td>\n",
       "      <td>0.292695</td>\n",
       "    </tr>\n",
       "    <tr>\n",
       "      <th>DiabetesPedigreeFunction</th>\n",
       "      <td>-0.033523</td>\n",
       "      <td>0.137337</td>\n",
       "      <td>0.041265</td>\n",
       "      <td>0.183928</td>\n",
       "      <td>0.185071</td>\n",
       "      <td>0.140647</td>\n",
       "      <td>1.000000</td>\n",
       "      <td>0.033561</td>\n",
       "      <td>0.173844</td>\n",
       "    </tr>\n",
       "    <tr>\n",
       "      <th>Age</th>\n",
       "      <td>0.544341</td>\n",
       "      <td>0.263514</td>\n",
       "      <td>0.239528</td>\n",
       "      <td>-0.113970</td>\n",
       "      <td>-0.042163</td>\n",
       "      <td>0.036242</td>\n",
       "      <td>0.033561</td>\n",
       "      <td>1.000000</td>\n",
       "      <td>0.238356</td>\n",
       "    </tr>\n",
       "    <tr>\n",
       "      <th>Outcome</th>\n",
       "      <td>0.221898</td>\n",
       "      <td>0.466581</td>\n",
       "      <td>0.065068</td>\n",
       "      <td>0.074752</td>\n",
       "      <td>0.130548</td>\n",
       "      <td>0.292695</td>\n",
       "      <td>0.173844</td>\n",
       "      <td>0.238356</td>\n",
       "      <td>1.000000</td>\n",
       "    </tr>\n",
       "  </tbody>\n",
       "</table>\n",
       "</div>"
      ],
      "text/plain": [
       "                          Pregnancies   Glucose  BloodPressure  SkinThickness  \\\n",
       "Pregnancies                  1.000000  0.129459       0.141282      -0.081672   \n",
       "Glucose                      0.129459  1.000000       0.152590       0.057328   \n",
       "BloodPressure                0.141282  0.152590       1.000000       0.207371   \n",
       "SkinThickness               -0.081672  0.057328       0.207371       1.000000   \n",
       "Insulin                     -0.073535  0.331357       0.088933       0.436783   \n",
       "BMI                          0.017683  0.221071       0.281805       0.392573   \n",
       "DiabetesPedigreeFunction    -0.033523  0.137337       0.041265       0.183928   \n",
       "Age                          0.544341  0.263514       0.239528      -0.113970   \n",
       "Outcome                      0.221898  0.466581       0.065068       0.074752   \n",
       "\n",
       "                           Insulin       BMI  DiabetesPedigreeFunction  \\\n",
       "Pregnancies              -0.073535  0.017683                 -0.033523   \n",
       "Glucose                   0.331357  0.221071                  0.137337   \n",
       "BloodPressure             0.088933  0.281805                  0.041265   \n",
       "SkinThickness             0.436783  0.392573                  0.183928   \n",
       "Insulin                   1.000000  0.197859                  0.185071   \n",
       "BMI                       0.197859  1.000000                  0.140647   \n",
       "DiabetesPedigreeFunction  0.185071  0.140647                  1.000000   \n",
       "Age                      -0.042163  0.036242                  0.033561   \n",
       "Outcome                   0.130548  0.292695                  0.173844   \n",
       "\n",
       "                               Age   Outcome  \n",
       "Pregnancies               0.544341  0.221898  \n",
       "Glucose                   0.263514  0.466581  \n",
       "BloodPressure             0.239528  0.065068  \n",
       "SkinThickness            -0.113970  0.074752  \n",
       "Insulin                  -0.042163  0.130548  \n",
       "BMI                       0.036242  0.292695  \n",
       "DiabetesPedigreeFunction  0.033561  0.173844  \n",
       "Age                       1.000000  0.238356  \n",
       "Outcome                   0.238356  1.000000  "
      ]
     },
     "execution_count": 26,
     "metadata": {},
     "output_type": "execute_result"
    }
   ],
   "source": [
    "corr_matrix"
   ]
  },
  {
   "cell_type": "code",
   "execution_count": 27,
   "metadata": {},
   "outputs": [
    {
     "data": {
      "text/plain": [
       "Outcome                     1.000000\n",
       "Glucose                     0.466581\n",
       "BMI                         0.292695\n",
       "Age                         0.238356\n",
       "Pregnancies                 0.221898\n",
       "DiabetesPedigreeFunction    0.173844\n",
       "Insulin                     0.130548\n",
       "SkinThickness               0.074752\n",
       "BloodPressure               0.065068\n",
       "Name: Outcome, dtype: float64"
      ]
     },
     "execution_count": 27,
     "metadata": {},
     "output_type": "execute_result"
    }
   ],
   "source": [
    "corr_matrix['Outcome'].sort_values(ascending=False)"
   ]
  },
  {
   "cell_type": "code",
   "execution_count": 28,
   "metadata": {},
   "outputs": [],
   "source": [
    "#Experimenting With Attribute Combinations\n",
    "diabetes['BMI_Per_Age'] = diabetes['BMI'] / diabetes['Age']\n",
    "diabetes['Pregnancies_Per_Age'] = diabetes['Pregnancies'] / diabetes['Age']\n",
    "diabetes['Insulin_Per_Age'] = diabetes['Insulin'] / diabetes['Age']\n",
    "diabetes['BloodPressure_Per_Age'] = diabetes['BloodPressure'] / diabetes['Age']"
   ]
  },
  {
   "cell_type": "code",
   "execution_count": 29,
   "metadata": {},
   "outputs": [
    {
     "data": {
      "text/plain": [
       "Outcome                     1.000000\n",
       "Glucose                     0.466581\n",
       "BMI                         0.292695\n",
       "Age                         0.238356\n",
       "Pregnancies                 0.221898\n",
       "DiabetesPedigreeFunction    0.173844\n",
       "Pregnancies_Per_Age         0.163744\n",
       "Insulin                     0.130548\n",
       "SkinThickness               0.074752\n",
       "BloodPressure               0.065068\n",
       "Insulin_Per_Age             0.045020\n",
       "BMI_Per_Age                -0.029840\n",
       "BloodPressure_Per_Age      -0.193117\n",
       "Name: Outcome, dtype: float64"
      ]
     },
     "execution_count": 29,
     "metadata": {},
     "output_type": "execute_result"
    }
   ],
   "source": [
    "corr_matrix = diabetes.corr()\n",
    "corr_matrix['Outcome'].sort_values(ascending=False)"
   ]
  },
  {
   "cell_type": "code",
   "execution_count": 30,
   "metadata": {},
   "outputs": [],
   "source": [
    "#Not Bad! Blood Pressure Per Age is much more correlated with the \"outcome\" than the\n",
    "#Blood Pressure attibrute by itself. "
   ]
  },
  {
   "cell_type": "code",
   "execution_count": 31,
   "metadata": {},
   "outputs": [],
   "source": [
    "#Prepare The Data For Machine Learning Algorithms\n",
    "diabetes = strat_train_set.drop('Outcome', axis=1) #Drop labels for training set\n",
    "diabetes_labels = strat_train_set['Outcome'].copy() #Create a copy of the labels"
   ]
  },
  {
   "cell_type": "code",
   "execution_count": 32,
   "metadata": {},
   "outputs": [],
   "source": [
    "#Let's create a custom transformer class that removes the outliers we discussed earlier\n",
    "from sklearn.base import BaseEstimator, TransformerMixin\n",
    "\n",
    "#get the column indices\n",
    "col_names = \"BloodPressure\", \"BMI\", \"Insulin\", \"Pregnancies\"\n",
    "bloodp_ix, bmi_ix, insulin_ix, pregnancies_ix = [diabetes.columns.get_loc(i) for i in col_names]\n",
    "\n",
    "class ClipOutliers(BaseEstimator, TransformerMixin):\n",
    "    \n",
    "    def __init__(self, clip_outliers = True):\n",
    "        self.clip_outliers = clip_outliers\n",
    "        \n",
    "    def fit(self, X, y=None):\n",
    "        return self\n",
    "    \n",
    "    def transform(self, X):        \n",
    "        boundary_bloodp = (np.percentile(X.iloc[:, bloodp_ix], 75) - np.percentile(X.iloc[:, bloodp_ix], 25)) * 1.5\n",
    "        lower_bloodp, upper_bloodp = np.percentile(X.iloc[:, bloodp_ix], 25) - boundary_bloodp, np.percentile(X.iloc[:, bloodp_ix], 75) + boundary_bloodp\n",
    "\n",
    "        boundary_bmi = (np.percentile(X.iloc[:, bmi_ix], 75) - np.percentile(X.iloc[:, bmi_ix], 25)) * 1.5\n",
    "        lower_bmi, upper_bmi = np.percentile(X.iloc[:, bmi_ix], 25) - boundary_bmi, np.percentile(X.iloc[:, bmi_ix], 75) + boundary_bmi\n",
    "        \n",
    "        boundary_preg = (np.percentile(X.iloc[:, pregnancies_ix], 75) - np.percentile(X.iloc[:, pregnancies_ix], 25)) * 1.5\n",
    "        lower_preg, upper_preg = np.percentile(X.iloc[:, pregnancies_ix], 25) - boundary_preg, np.percentile(X.iloc[:, pregnancies_ix], 75) + boundary_preg\n",
    "        \n",
    "        if self.clip_outliers:\n",
    "            boundary_insulin = (np.percentile(X.iloc[:, insulin_ix], 75) - np.percentile(X.iloc[:, insulin_ix], 25)) * 1.5\n",
    "            lower_insulin, upper_insulin = np.percentile(X.iloc[:, insulin_ix], 25) - boundary_insulin, np.percentile(X.iloc[:, insulin_ix], 75) + boundary_insulin\n",
    "\n",
    "            return X[(X.iloc[:,bloodp_ix] > lower_bloodp) & (X.iloc[:,bloodp_ix] < upper_bloodp) & (X.iloc[:,bmi_ix] > lower_bmi) & \n",
    "                     (X.iloc[:,bmi_ix] < upper_bmi) & (X.iloc[:,pregnancies_ix] > lower_preg) & (X.iloc[:,pregnancies_ix] < upper_preg) & (X.iloc[:,insulin_ix] > lower_insulin) & (X.iloc[:,insulin_ix] < upper_insulin)]\n",
    "        else:\n",
    "            return X[(X.iloc[:,bloodp_ix] > lower_bloodp) & (X.iloc[:,bloodp_ix] < upper_bloodp) & (X.iloc[:,bmi_ix] > lower_bmi) & \n",
    "                     (X.iloc[:,bmi_ix] < upper_bmi) & (X.iloc[:,pregnancies_ix] > lower_preg) & (X.iloc[:,pregnancies_ix] < upper_preg)]\n",
    "        \n",
    "            \n",
    "outliers_clipper = ClipOutliers(clip_outliers=False)\n",
    "diabetes_clipped = outliers_clipper.transform(diabetes)"
   ]
  },
  {
   "cell_type": "code",
   "execution_count": 33,
   "metadata": {},
   "outputs": [
    {
     "data": {
      "text/html": [
       "<div>\n",
       "<style scoped>\n",
       "    .dataframe tbody tr th:only-of-type {\n",
       "        vertical-align: middle;\n",
       "    }\n",
       "\n",
       "    .dataframe tbody tr th {\n",
       "        vertical-align: top;\n",
       "    }\n",
       "\n",
       "    .dataframe thead th {\n",
       "        text-align: right;\n",
       "    }\n",
       "</style>\n",
       "<table border=\"1\" class=\"dataframe\">\n",
       "  <thead>\n",
       "    <tr style=\"text-align: right;\">\n",
       "      <th></th>\n",
       "      <th>Pregnancies</th>\n",
       "      <th>Glucose</th>\n",
       "      <th>BloodPressure</th>\n",
       "      <th>SkinThickness</th>\n",
       "      <th>Insulin</th>\n",
       "      <th>BMI</th>\n",
       "      <th>DiabetesPedigreeFunction</th>\n",
       "      <th>Age</th>\n",
       "    </tr>\n",
       "  </thead>\n",
       "  <tbody>\n",
       "    <tr>\n",
       "      <th>432</th>\n",
       "      <td>1</td>\n",
       "      <td>80</td>\n",
       "      <td>74</td>\n",
       "      <td>11</td>\n",
       "      <td>60</td>\n",
       "      <td>30.0</td>\n",
       "      <td>0.527</td>\n",
       "      <td>22</td>\n",
       "    </tr>\n",
       "    <tr>\n",
       "      <th>199</th>\n",
       "      <td>4</td>\n",
       "      <td>148</td>\n",
       "      <td>60</td>\n",
       "      <td>27</td>\n",
       "      <td>318</td>\n",
       "      <td>30.9</td>\n",
       "      <td>0.150</td>\n",
       "      <td>29</td>\n",
       "    </tr>\n",
       "    <tr>\n",
       "      <th>550</th>\n",
       "      <td>1</td>\n",
       "      <td>116</td>\n",
       "      <td>70</td>\n",
       "      <td>28</td>\n",
       "      <td>0</td>\n",
       "      <td>27.4</td>\n",
       "      <td>0.204</td>\n",
       "      <td>21</td>\n",
       "    </tr>\n",
       "    <tr>\n",
       "      <th>689</th>\n",
       "      <td>1</td>\n",
       "      <td>144</td>\n",
       "      <td>82</td>\n",
       "      <td>46</td>\n",
       "      <td>180</td>\n",
       "      <td>46.1</td>\n",
       "      <td>0.335</td>\n",
       "      <td>46</td>\n",
       "    </tr>\n",
       "    <tr>\n",
       "      <th>627</th>\n",
       "      <td>0</td>\n",
       "      <td>132</td>\n",
       "      <td>78</td>\n",
       "      <td>0</td>\n",
       "      <td>0</td>\n",
       "      <td>32.4</td>\n",
       "      <td>0.393</td>\n",
       "      <td>21</td>\n",
       "    </tr>\n",
       "    <tr>\n",
       "      <th>...</th>\n",
       "      <td>...</td>\n",
       "      <td>...</td>\n",
       "      <td>...</td>\n",
       "      <td>...</td>\n",
       "      <td>...</td>\n",
       "      <td>...</td>\n",
       "      <td>...</td>\n",
       "      <td>...</td>\n",
       "    </tr>\n",
       "    <tr>\n",
       "      <th>265</th>\n",
       "      <td>5</td>\n",
       "      <td>96</td>\n",
       "      <td>74</td>\n",
       "      <td>18</td>\n",
       "      <td>67</td>\n",
       "      <td>33.6</td>\n",
       "      <td>0.997</td>\n",
       "      <td>43</td>\n",
       "    </tr>\n",
       "    <tr>\n",
       "      <th>42</th>\n",
       "      <td>7</td>\n",
       "      <td>106</td>\n",
       "      <td>92</td>\n",
       "      <td>18</td>\n",
       "      <td>0</td>\n",
       "      <td>22.7</td>\n",
       "      <td>0.235</td>\n",
       "      <td>48</td>\n",
       "    </tr>\n",
       "    <tr>\n",
       "      <th>72</th>\n",
       "      <td>13</td>\n",
       "      <td>126</td>\n",
       "      <td>90</td>\n",
       "      <td>0</td>\n",
       "      <td>0</td>\n",
       "      <td>43.4</td>\n",
       "      <td>0.583</td>\n",
       "      <td>42</td>\n",
       "    </tr>\n",
       "    <tr>\n",
       "      <th>52</th>\n",
       "      <td>5</td>\n",
       "      <td>88</td>\n",
       "      <td>66</td>\n",
       "      <td>21</td>\n",
       "      <td>23</td>\n",
       "      <td>24.4</td>\n",
       "      <td>0.342</td>\n",
       "      <td>30</td>\n",
       "    </tr>\n",
       "    <tr>\n",
       "      <th>85</th>\n",
       "      <td>2</td>\n",
       "      <td>110</td>\n",
       "      <td>74</td>\n",
       "      <td>29</td>\n",
       "      <td>125</td>\n",
       "      <td>32.4</td>\n",
       "      <td>0.698</td>\n",
       "      <td>27</td>\n",
       "    </tr>\n",
       "  </tbody>\n",
       "</table>\n",
       "<p>601 rows × 8 columns</p>\n",
       "</div>"
      ],
      "text/plain": [
       "     Pregnancies  Glucose  BloodPressure  SkinThickness  Insulin   BMI  \\\n",
       "432            1       80             74             11       60  30.0   \n",
       "199            4      148             60             27      318  30.9   \n",
       "550            1      116             70             28        0  27.4   \n",
       "689            1      144             82             46      180  46.1   \n",
       "627            0      132             78              0        0  32.4   \n",
       "..           ...      ...            ...            ...      ...   ...   \n",
       "265            5       96             74             18       67  33.6   \n",
       "42             7      106             92             18        0  22.7   \n",
       "72            13      126             90              0        0  43.4   \n",
       "52             5       88             66             21       23  24.4   \n",
       "85             2      110             74             29      125  32.4   \n",
       "\n",
       "     DiabetesPedigreeFunction  Age  \n",
       "432                     0.527   22  \n",
       "199                     0.150   29  \n",
       "550                     0.204   21  \n",
       "689                     0.335   46  \n",
       "627                     0.393   21  \n",
       "..                        ...  ...  \n",
       "265                     0.997   43  \n",
       "42                      0.235   48  \n",
       "72                      0.583   42  \n",
       "52                      0.342   30  \n",
       "85                      0.698   27  \n",
       "\n",
       "[601 rows x 8 columns]"
      ]
     },
     "execution_count": 33,
     "metadata": {},
     "output_type": "execute_result"
    }
   ],
   "source": [
    "diabetes_clipped"
   ]
  },
  {
   "cell_type": "code",
   "execution_count": 34,
   "metadata": {},
   "outputs": [],
   "source": [
    "#Since missing data has already been dealt with through imputation in the dataset\n",
    "#No need to replace missing values\n",
    "#Since there are no categorical attributes, we don't need to OneHotEncode any attribute either\n",
    "#However, we definitely need to perform some feature scaling as our numerical attributes have very different scales\n",
    "#Let's build a Pipeline for preprocessing the numerical attributes\n",
    "\n",
    "from sklearn.pipeline import Pipeline  \n",
    "from sklearn.preprocessing import StandardScaler\n",
    "\n",
    "num_pipeline = Pipeline([\n",
    "                ('outlier_clipper', ClipOutliers(clip_outliers=False)),\n",
    "                ('std_scaler', StandardScaler())\n",
    "                            ])\n",
    "\n",
    "diabetes_attribs_transformed = num_pipeline.fit_transform(diabetes)\n",
    "\n",
    "diabetes_attribs_prepared = pd.DataFrame(diabetes_attribs_transformed,columns=list(diabetes_clipped.columns), index=diabetes_clipped.index )\n"
   ]
  },
  {
   "cell_type": "code",
   "execution_count": 35,
   "metadata": {},
   "outputs": [
    {
     "data": {
      "text/plain": [
       "array([[-0.87195924, -1.27961249,  0.16818962, ..., -0.33320977,\n",
       "         0.16366936, -0.96278497],\n",
       "       [ 0.04367414,  0.84508597, -1.07973581, ..., -0.19302686,\n",
       "        -1.01180016, -0.36757022],\n",
       "       [-0.87195924, -0.15477213, -0.1883605 , ..., -0.73818261,\n",
       "        -0.84343052, -1.04781565],\n",
       "       ...,\n",
       "       [ 2.79057427,  0.15768353,  1.5943901 , ...,  1.75395796,\n",
       "         0.33827491,  0.7378286 ],\n",
       "       [ 0.34888526, -1.02964796, -0.54491063, ..., -1.20545897,\n",
       "        -0.41315255, -0.28253954],\n",
       "       [-0.56674811, -0.34224552,  0.16818962, ...,  0.04061132,\n",
       "         0.69683989, -0.53763158]])"
      ]
     },
     "execution_count": 35,
     "metadata": {},
     "output_type": "execute_result"
    }
   ],
   "source": [
    "diabetes_attribs_transformed"
   ]
  },
  {
   "cell_type": "code",
   "execution_count": 36,
   "metadata": {},
   "outputs": [
    {
     "data": {
      "text/html": [
       "<div>\n",
       "<style scoped>\n",
       "    .dataframe tbody tr th:only-of-type {\n",
       "        vertical-align: middle;\n",
       "    }\n",
       "\n",
       "    .dataframe tbody tr th {\n",
       "        vertical-align: top;\n",
       "    }\n",
       "\n",
       "    .dataframe thead th {\n",
       "        text-align: right;\n",
       "    }\n",
       "</style>\n",
       "<table border=\"1\" class=\"dataframe\">\n",
       "  <thead>\n",
       "    <tr style=\"text-align: right;\">\n",
       "      <th></th>\n",
       "      <th>Pregnancies</th>\n",
       "      <th>Glucose</th>\n",
       "      <th>BloodPressure</th>\n",
       "      <th>SkinThickness</th>\n",
       "      <th>Insulin</th>\n",
       "      <th>BMI</th>\n",
       "      <th>DiabetesPedigreeFunction</th>\n",
       "      <th>Age</th>\n",
       "    </tr>\n",
       "  </thead>\n",
       "  <tbody>\n",
       "    <tr>\n",
       "      <th>432</th>\n",
       "      <td>-0.871959</td>\n",
       "      <td>-1.279612</td>\n",
       "      <td>0.168190</td>\n",
       "      <td>-0.659893</td>\n",
       "      <td>-0.216057</td>\n",
       "      <td>-0.333210</td>\n",
       "      <td>0.163669</td>\n",
       "      <td>-0.962785</td>\n",
       "    </tr>\n",
       "    <tr>\n",
       "      <th>199</th>\n",
       "      <td>0.043674</td>\n",
       "      <td>0.845086</td>\n",
       "      <td>-1.079736</td>\n",
       "      <td>0.375098</td>\n",
       "      <td>1.964308</td>\n",
       "      <td>-0.193027</td>\n",
       "      <td>-1.011800</td>\n",
       "      <td>-0.367570</td>\n",
       "    </tr>\n",
       "    <tr>\n",
       "      <th>550</th>\n",
       "      <td>-0.871959</td>\n",
       "      <td>-0.154772</td>\n",
       "      <td>-0.188361</td>\n",
       "      <td>0.439785</td>\n",
       "      <td>-0.723118</td>\n",
       "      <td>-0.738183</td>\n",
       "      <td>-0.843431</td>\n",
       "      <td>-1.047816</td>\n",
       "    </tr>\n",
       "    <tr>\n",
       "      <th>689</th>\n",
       "      <td>-0.871959</td>\n",
       "      <td>0.720104</td>\n",
       "      <td>0.881290</td>\n",
       "      <td>1.604150</td>\n",
       "      <td>0.798066</td>\n",
       "      <td>2.174507</td>\n",
       "      <td>-0.434978</td>\n",
       "      <td>1.077951</td>\n",
       "    </tr>\n",
       "    <tr>\n",
       "      <th>627</th>\n",
       "      <td>-1.177170</td>\n",
       "      <td>0.345157</td>\n",
       "      <td>0.524740</td>\n",
       "      <td>-1.371450</td>\n",
       "      <td>-0.723118</td>\n",
       "      <td>0.040611</td>\n",
       "      <td>-0.254137</td>\n",
       "      <td>-1.047816</td>\n",
       "    </tr>\n",
       "    <tr>\n",
       "      <th>...</th>\n",
       "      <td>...</td>\n",
       "      <td>...</td>\n",
       "      <td>...</td>\n",
       "      <td>...</td>\n",
       "      <td>...</td>\n",
       "      <td>...</td>\n",
       "      <td>...</td>\n",
       "      <td>...</td>\n",
       "    </tr>\n",
       "    <tr>\n",
       "      <th>265</th>\n",
       "      <td>0.348885</td>\n",
       "      <td>-0.779683</td>\n",
       "      <td>0.168190</td>\n",
       "      <td>-0.207084</td>\n",
       "      <td>-0.156899</td>\n",
       "      <td>0.227522</td>\n",
       "      <td>1.629109</td>\n",
       "      <td>0.822859</td>\n",
       "    </tr>\n",
       "    <tr>\n",
       "      <th>42</th>\n",
       "      <td>0.959308</td>\n",
       "      <td>-0.467228</td>\n",
       "      <td>1.772665</td>\n",
       "      <td>-0.207084</td>\n",
       "      <td>-0.723118</td>\n",
       "      <td>-1.470249</td>\n",
       "      <td>-0.746774</td>\n",
       "      <td>1.248013</td>\n",
       "    </tr>\n",
       "    <tr>\n",
       "      <th>72</th>\n",
       "      <td>2.790574</td>\n",
       "      <td>0.157684</td>\n",
       "      <td>1.594390</td>\n",
       "      <td>-1.371450</td>\n",
       "      <td>-0.723118</td>\n",
       "      <td>1.753958</td>\n",
       "      <td>0.338275</td>\n",
       "      <td>0.737829</td>\n",
       "    </tr>\n",
       "    <tr>\n",
       "      <th>52</th>\n",
       "      <td>0.348885</td>\n",
       "      <td>-1.029648</td>\n",
       "      <td>-0.544911</td>\n",
       "      <td>-0.013023</td>\n",
       "      <td>-0.528744</td>\n",
       "      <td>-1.205459</td>\n",
       "      <td>-0.413153</td>\n",
       "      <td>-0.282540</td>\n",
       "    </tr>\n",
       "    <tr>\n",
       "      <th>85</th>\n",
       "      <td>-0.566748</td>\n",
       "      <td>-0.342246</td>\n",
       "      <td>0.168190</td>\n",
       "      <td>0.504472</td>\n",
       "      <td>0.333260</td>\n",
       "      <td>0.040611</td>\n",
       "      <td>0.696840</td>\n",
       "      <td>-0.537632</td>\n",
       "    </tr>\n",
       "  </tbody>\n",
       "</table>\n",
       "<p>601 rows × 8 columns</p>\n",
       "</div>"
      ],
      "text/plain": [
       "     Pregnancies   Glucose  BloodPressure  SkinThickness   Insulin       BMI  \\\n",
       "432    -0.871959 -1.279612       0.168190      -0.659893 -0.216057 -0.333210   \n",
       "199     0.043674  0.845086      -1.079736       0.375098  1.964308 -0.193027   \n",
       "550    -0.871959 -0.154772      -0.188361       0.439785 -0.723118 -0.738183   \n",
       "689    -0.871959  0.720104       0.881290       1.604150  0.798066  2.174507   \n",
       "627    -1.177170  0.345157       0.524740      -1.371450 -0.723118  0.040611   \n",
       "..           ...       ...            ...            ...       ...       ...   \n",
       "265     0.348885 -0.779683       0.168190      -0.207084 -0.156899  0.227522   \n",
       "42      0.959308 -0.467228       1.772665      -0.207084 -0.723118 -1.470249   \n",
       "72      2.790574  0.157684       1.594390      -1.371450 -0.723118  1.753958   \n",
       "52      0.348885 -1.029648      -0.544911      -0.013023 -0.528744 -1.205459   \n",
       "85     -0.566748 -0.342246       0.168190       0.504472  0.333260  0.040611   \n",
       "\n",
       "     DiabetesPedigreeFunction       Age  \n",
       "432                  0.163669 -0.962785  \n",
       "199                 -1.011800 -0.367570  \n",
       "550                 -0.843431 -1.047816  \n",
       "689                 -0.434978  1.077951  \n",
       "627                 -0.254137 -1.047816  \n",
       "..                        ...       ...  \n",
       "265                  1.629109  0.822859  \n",
       "42                  -0.746774  1.248013  \n",
       "72                   0.338275  0.737829  \n",
       "52                  -0.413153 -0.282540  \n",
       "85                   0.696840 -0.537632  \n",
       "\n",
       "[601 rows x 8 columns]"
      ]
     },
     "execution_count": 36,
     "metadata": {},
     "output_type": "execute_result"
    }
   ],
   "source": [
    "diabetes_attribs_prepared"
   ]
  },
  {
   "cell_type": "code",
   "execution_count": 37,
   "metadata": {},
   "outputs": [
    {
     "data": {
      "text/plain": [
       "432    0\n",
       "199    1\n",
       "550    0\n",
       "689    1\n",
       "627    0\n",
       "      ..\n",
       "265    0\n",
       "42     0\n",
       "72     1\n",
       "52     0\n",
       "85     0\n",
       "Name: Outcome, Length: 601, dtype: int64"
      ]
     },
     "execution_count": 37,
     "metadata": {},
     "output_type": "execute_result"
    }
   ],
   "source": [
    "#need to make sure our outcome labels are correctly filtered as well\n",
    "diabetes_labels_clipped = diabetes_labels.filter(list(diabetes_clipped.index))\n",
    "diabetes_labels_clipped"
   ]
  },
  {
   "cell_type": "code",
   "execution_count": 38,
   "metadata": {},
   "outputs": [
    {
     "data": {
      "text/plain": [
       "481"
      ]
     },
     "execution_count": 38,
     "metadata": {},
     "output_type": "execute_result"
    }
   ],
   "source": [
    "round(len(diabetes_attribs_prepared) *.8)"
   ]
  },
  {
   "cell_type": "code",
   "execution_count": 39,
   "metadata": {},
   "outputs": [],
   "source": [
    "#Time to Select & Train A Model\n",
    "#First, let's split the data for training and finetuning \n",
    "#Now, for our objective, we want to be able to predict if someone will become diabetic. And so, we care more about \n",
    "#The positive cases. So let's set the outcome labels to only positive for a binary prediction.  \n",
    "\n",
    "X_train, y_train, X_test, y_test = diabetes_attribs_prepared[:480], diabetes_labels_clipped[:480],diabetes_attribs_prepared[480:], diabetes_labels_clipped[480:]\n",
    "\n",
    "y_train_diabetic = y_train == 1\n",
    "y_test_diabetic = y_test == 1"
   ]
  },
  {
   "cell_type": "code",
   "execution_count": 42,
   "metadata": {},
   "outputs": [],
   "source": [
    "from sklearn.metrics import accuracy_score"
   ]
  },
  {
   "cell_type": "code",
   "execution_count": 43,
   "metadata": {},
   "outputs": [
    {
     "name": "stdout",
     "output_type": "stream",
     "text": [
      "The accuracy of the SGD is 0.7024793388429752\n"
     ]
    }
   ],
   "source": [
    "#SGD\n",
    "from sklearn.linear_model import SGDClassifier\n",
    "sgd_classifier = SGDClassifier(max_iter=1000, tol=1e-3, random_state=42)\n",
    "sgd_classifier.fit(X_train, y_train_diabetic)\n",
    "sgd_classifier_prediction = sgd_classifier.predict(X_test)\n",
    "sgd_classifier_prediction\n",
    "print('The accuracy of the SGD is', accuracy_score(sgd_classifier_prediction,y_test_diabetic))\n"
   ]
  },
  {
   "cell_type": "code",
   "execution_count": 44,
   "metadata": {},
   "outputs": [
    {
     "name": "stdout",
     "output_type": "stream",
     "text": [
      "The accuracy of the Decision Tree is 0.71900826446281\n"
     ]
    }
   ],
   "source": [
    "\n",
    "#Descision Tree\n",
    "from sklearn.tree import DecisionTreeClassifier\n",
    "dt_classifier = DecisionTreeClassifier(max_depth=3, min_samples_leaf=2) \n",
    "dt_classifier.fit(X_train, y_train_diabetic)\n",
    "dt_classifier_prediction = dt_classifier.predict(X_test)\n",
    "dt_classifier_prediction\n",
    "print('The accuracy of the Decision Tree is',accuracy_score(dt_classifier_prediction,y_test_diabetic))\n"
   ]
  },
  {
   "cell_type": "code",
   "execution_count": 45,
   "metadata": {},
   "outputs": [
    {
     "name": "stdout",
     "output_type": "stream",
     "text": [
      "The accuracy of the K Nearest Neighbors is 0.7107438016528925\n"
     ]
    }
   ],
   "source": [
    "\n",
    "#KNN\n",
    "from sklearn.neighbors import KNeighborsClassifier\n",
    "knn_classifier = KNeighborsClassifier(weights='distance', n_neighbors=6) \n",
    "knn_classifier.fit(X_train, y_train_diabetic)\n",
    "knn_classifier_prediction = knn_classifier.predict(X_test)\n",
    "knn_classifier_prediction\n",
    "print('The accuracy of the K Nearest Neighbors is',\n",
    "      accuracy_score(knn_classifier_prediction,y_test_diabetic))\n"
   ]
  },
  {
   "cell_type": "code",
   "execution_count": 46,
   "metadata": {},
   "outputs": [
    {
     "name": "stdout",
     "output_type": "stream",
     "text": [
      "The accuracy of the Logistic Regression is 0.6942148760330579\n"
     ]
    }
   ],
   "source": [
    "#Logisitic Regression\n",
    "from sklearn.linear_model import LogisticRegression \n",
    "logreg_classifier = LogisticRegression(max_iter=1000)\n",
    "logreg_classifier.fit(X_train, y_train_diabetic)\n",
    "logreg_classifier.predict_proba(X_test)\n",
    "logreg_classifier_predicted = logreg_classifier.predict(X_test)\n",
    "print('The accuracy of the Logistic Regression is',\n",
    "      accuracy_score(logreg_classifier_predicted, y_test_diabetic))\n"
   ]
  },
  {
   "cell_type": "code",
   "execution_count": 47,
   "metadata": {},
   "outputs": [
    {
     "name": "stdout",
     "output_type": "stream",
     "text": [
      "The accuracy of the SVM is 0.6776859504132231\n"
     ]
    }
   ],
   "source": [
    "#SVC\n",
    "from sklearn import svm\n",
    "from sklearn.svm import SVC\n",
    "svm_classifier = SVC()\n",
    "svm_classifier.fit(X_train, y_train_diabetic)\n",
    "svm_classifier_prediction = svm_classifier.predict(X_test)\n",
    "print('The accuracy of the SVM is',accuracy_score(svm_classifier_prediction, y_test_diabetic))\n"
   ]
  },
  {
   "cell_type": "code",
   "execution_count": 50,
   "metadata": {},
   "outputs": [
    {
     "name": "stdout",
     "output_type": "stream",
     "text": [
      "The accuracy of the Random Forest is 0.7024793388429752\n"
     ]
    }
   ],
   "source": [
    "from sklearn.ensemble import RandomForestClassifier\n",
    "rf = RandomForestClassifier(n_estimators=50, max_depth=3, random_state=42)\n",
    "rf.fit(X_train, y_train_diabetic)\n",
    "rf_prediction = rf.predict(X_test)\n",
    "print('The accuracy of the Random Forest is',accuracy_score(rf_prediction, y_test_diabetic))"
   ]
  },
  {
   "cell_type": "code",
   "execution_count": 51,
   "metadata": {},
   "outputs": [
    {
     "name": "stdout",
     "output_type": "stream",
     "text": [
      "LogisticRegression 0.6942148760330579\n",
      "RandomForestClassifier 0.7024793388429752\n",
      "SVC 0.6776859504132231\n",
      "VotingClassifier 0.6859504132231405\n"
     ]
    }
   ],
   "source": [
    "from sklearn.ensemble import RandomForestClassifier\n",
    "from sklearn.ensemble import VotingClassifier\n",
    "from sklearn.linear_model import LogisticRegression\n",
    "from sklearn.svm import SVC\n",
    "\n",
    "log_clf = LogisticRegression(random_state=42)\n",
    "rnd_clf = RandomForestClassifier(n_estimators=50, max_depth = 3, random_state=42)\n",
    "svm_clf = SVC(gamma=\"scale\", random_state=42)\n",
    "\n",
    "voting_clf = VotingClassifier(\n",
    "    estimators=[('lr', log_clf), ('rf', rnd_clf), ('svc', svm_clf)],\n",
    "    voting='hard')\n",
    "\n",
    "voting_clf.fit(X_train, y_train_diabetic)\n",
    "\n",
    "\n",
    "from sklearn.metrics import accuracy_score\n",
    "\n",
    "for clf in (log_clf, rnd_clf, svm_clf, voting_clf):\n",
    "    clf.fit(X_train, y_train_diabetic)\n",
    "    y_pred = clf.predict(X_test)\n",
    "    print(clf.__class__.__name__, accuracy_score(y_test_diabetic, y_pred))"
   ]
  },
  {
   "cell_type": "code",
   "execution_count": 52,
   "metadata": {},
   "outputs": [
    {
     "name": "stdout",
     "output_type": "stream",
     "text": [
      "LogisticRegression 0.6942148760330579\n",
      "RandomForestClassifier 0.6859504132231405\n",
      "SVC 0.6776859504132231\n",
      "VotingClassifier 0.7107438016528925\n"
     ]
    }
   ],
   "source": [
    "log_clf = LogisticRegression(solver=\"lbfgs\", random_state=42)\n",
    "rnd_clf = RandomForestClassifier(n_estimators=100, random_state=42)\n",
    "svm_clf = SVC(gamma=\"scale\", probability=True, random_state=42)\n",
    "\n",
    "voting_clf = VotingClassifier(\n",
    "    estimators=[('lr', log_clf), ('rf', rnd_clf), ('svc', svm_clf)],\n",
    "    voting='soft')\n",
    "voting_clf.fit(X_train, y_train)\n",
    "\n",
    "\n",
    "for clf in (log_clf, rnd_clf, svm_clf, voting_clf):\n",
    "    clf.fit(X_train, y_train_diabetic)\n",
    "    y_pred = clf.predict(X_test)\n",
    "    print(clf.__class__.__name__, accuracy_score(y_test_diabetic, y_pred))"
   ]
  },
  {
   "cell_type": "code",
   "execution_count": 53,
   "metadata": {},
   "outputs": [
    {
     "data": {
      "text/html": [
       "<div>\n",
       "<style scoped>\n",
       "    .dataframe tbody tr th:only-of-type {\n",
       "        vertical-align: middle;\n",
       "    }\n",
       "\n",
       "    .dataframe tbody tr th {\n",
       "        vertical-align: top;\n",
       "    }\n",
       "\n",
       "    .dataframe thead th {\n",
       "        text-align: right;\n",
       "    }\n",
       "</style>\n",
       "<table border=\"1\" class=\"dataframe\">\n",
       "  <thead>\n",
       "    <tr style=\"text-align: right;\">\n",
       "      <th></th>\n",
       "      <th>Accuracy</th>\n",
       "    </tr>\n",
       "  </thead>\n",
       "  <tbody>\n",
       "    <tr>\n",
       "      <th>Decision Tree</th>\n",
       "      <td>0.719008</td>\n",
       "    </tr>\n",
       "    <tr>\n",
       "      <th>KNN</th>\n",
       "      <td>0.710744</td>\n",
       "    </tr>\n",
       "    <tr>\n",
       "      <th>Voting Classifier</th>\n",
       "      <td>0.710744</td>\n",
       "    </tr>\n",
       "    <tr>\n",
       "      <th>SGD</th>\n",
       "      <td>0.702479</td>\n",
       "    </tr>\n",
       "    <tr>\n",
       "      <th>Random Forest</th>\n",
       "      <td>0.702479</td>\n",
       "    </tr>\n",
       "    <tr>\n",
       "      <th>Logistic Regression</th>\n",
       "      <td>0.694215</td>\n",
       "    </tr>\n",
       "    <tr>\n",
       "      <th>SVC</th>\n",
       "      <td>0.677686</td>\n",
       "    </tr>\n",
       "  </tbody>\n",
       "</table>\n",
       "</div>"
      ],
      "text/plain": [
       "                     Accuracy\n",
       "Decision Tree        0.719008\n",
       "KNN                  0.710744\n",
       "Voting Classifier    0.710744\n",
       "SGD                  0.702479\n",
       "Random Forest        0.702479\n",
       "Logistic Regression  0.694215\n",
       "SVC                  0.677686"
      ]
     },
     "execution_count": 53,
     "metadata": {},
     "output_type": "execute_result"
    }
   ],
   "source": [
    "#To Summarise\n",
    "results=[]\n",
    "classifiers=['SGD', 'Decision Tree','KNN','Logistic Regression','SVC','Random Forest', 'Voting Classifier']\n",
    "models=[sgd_classifier,dt_classifier,knn_classifier,logreg_classifier,svm_classifier,rf, voting_clf]\n",
    "for m in models:\n",
    "    model = m\n",
    "    model.fit(X_train,y_train_diabetic)\n",
    "    prediction=model.predict(X_test)\n",
    "    results.append(accuracy_score(prediction,y_test_diabetic))\n",
    "results_df=pd.DataFrame(data=results,index=classifiers)   \n",
    "results_df.columns=['Accuracy']\n",
    "results_df.sort_values(by='Accuracy',ascending=False)"
   ]
  },
  {
   "cell_type": "code",
   "execution_count": 54,
   "metadata": {},
   "outputs": [],
   "source": [
    "# Let's try Fine-Tuning These Models' Hyperparameters & To See If We Can Get Better Results Using GridSearchCV\n",
    "# & RandomizedSearchCV"
   ]
  },
  {
   "cell_type": "code",
   "execution_count": 55,
   "metadata": {},
   "outputs": [],
   "source": [
    "from sklearn.model_selection import GridSearchCV\n",
    "from sklearn.model_selection import RandomizedSearchCV"
   ]
  },
  {
   "cell_type": "code",
   "execution_count": 56,
   "metadata": {},
   "outputs": [
    {
     "name": "stdout",
     "output_type": "stream",
     "text": [
      "Fitting 5 folds for each of 3920 candidates, totalling 19600 fits\n"
     ]
    },
    {
     "name": "stderr",
     "output_type": "stream",
     "text": [
      "[Parallel(n_jobs=1)]: Using backend SequentialBackend with 1 concurrent workers.\n",
      "[Parallel(n_jobs=1)]: Done 19600 out of 19600 | elapsed:  2.8min finished\n"
     ]
    },
    {
     "data": {
      "text/plain": [
       "GridSearchCV(cv=5, estimator=DecisionTreeClassifier(random_state=42),\n",
       "             param_grid=[{'criterion': ['gini', 'entropy'],\n",
       "                          'max_depth': [2, 3, 4, 5, 6],\n",
       "                          'max_leaf_nodes': [2, 3, 4, 5, 6, 7, 8, 9, 10, 11, 12,\n",
       "                                             13, 14, 15, 16, 17, 18, 19, 20, 21,\n",
       "                                             22, 23, 24, 25, 26, 27, 28, 29, 30,\n",
       "                                             31, ...],\n",
       "                          'min_samples_split': [2, 4, 6, 8]}],\n",
       "             verbose=1)"
      ]
     },
     "execution_count": 56,
     "metadata": {},
     "output_type": "execute_result"
    }
   ],
   "source": [
    "#Fine Tuning Decision-Tree Model Hyperparameters using GridSearchCV\n",
    "\n",
    "dt_param_grid = [\n",
    "        {'criterion':['gini','entropy'],  'max_leaf_nodes': list(range(2,100)), \n",
    "         'min_samples_split': [2, 4, 6, 8], 'max_depth': [2, 3, 4, 5, 6]}\n",
    "              ]\n",
    "dt_classifier = DecisionTreeClassifier(random_state=42)\n",
    "\n",
    "dt_grid_search = GridSearchCV(dt_classifier, dt_param_grid, cv=5, verbose=1)\n",
    "\n",
    "dt_grid_search.fit(X_train, y_train_diabetic)\n",
    "\n"
   ]
  },
  {
   "cell_type": "code",
   "execution_count": 57,
   "metadata": {},
   "outputs": [
    {
     "name": "stderr",
     "output_type": "stream",
     "text": [
      "[Parallel(n_jobs=1)]: Using backend SequentialBackend with 1 concurrent workers.\n"
     ]
    },
    {
     "name": "stdout",
     "output_type": "stream",
     "text": [
      "Fitting 5 folds for each of 24 candidates, totalling 120 fits\n"
     ]
    },
    {
     "name": "stderr",
     "output_type": "stream",
     "text": [
      "[Parallel(n_jobs=1)]: Done 120 out of 120 | elapsed:    1.5s finished\n"
     ]
    },
    {
     "data": {
      "text/plain": [
       "GridSearchCV(cv=5, estimator=KNeighborsClassifier(),\n",
       "             param_grid=[{'metric': ['euclidean', 'manhattan'],\n",
       "                          'n_neighbors': [2, 3, 5, 8, 12, 20],\n",
       "                          'weights': ['uniform', 'distance']}],\n",
       "             verbose=1)"
      ]
     },
     "execution_count": 57,
     "metadata": {},
     "output_type": "execute_result"
    }
   ],
   "source": [
    "#Fine Tuning KNN Model Hyperparameters using GridSearchCV\n",
    "knn_param_grid = [\n",
    "                {'n_neighbors':[2, 3, 5, 8, 12, 20],\n",
    "                'weights': ['uniform', 'distance'], \n",
    "                'metric': ['euclidean', 'manhattan']}\n",
    "                    ]\n",
    "knn_classifier = KNeighborsClassifier()\n",
    "\n",
    "knn_grid_search = GridSearchCV(knn_classifier, knn_param_grid, cv=5, verbose=1)\n",
    "\n",
    "knn_grid_search.fit(X_train, y_train_diabetic)\n"
   ]
  },
  {
   "cell_type": "code",
   "execution_count": 58,
   "metadata": {},
   "outputs": [
    {
     "name": "stderr",
     "output_type": "stream",
     "text": [
      "[Parallel(n_jobs=1)]: Using backend SequentialBackend with 1 concurrent workers.\n"
     ]
    },
    {
     "name": "stdout",
     "output_type": "stream",
     "text": [
      "Fitting 5 folds for each of 10 candidates, totalling 50 fits\n"
     ]
    },
    {
     "name": "stderr",
     "output_type": "stream",
     "text": [
      "[Parallel(n_jobs=1)]: Done  50 out of  50 | elapsed:    0.7s finished\n"
     ]
    },
    {
     "data": {
      "text/plain": [
       "RandomizedSearchCV(cv=5, estimator=SGDClassifier(),\n",
       "                   param_distributions=[{'alpha': [0.0001, 0.001, 0.01, 0.1, 1,\n",
       "                                                   10, 100, 1000],\n",
       "                                         'eta0': [1, 10, 100],\n",
       "                                         'learning_rate': ['constant',\n",
       "                                                           'optimal',\n",
       "                                                           'invscaling',\n",
       "                                                           'adaptive'],\n",
       "                                         'loss': ['hinge', 'log',\n",
       "                                                  'modified_huber',\n",
       "                                                  'squared_hinge',\n",
       "                                                  'perceptron'],\n",
       "                                         'penalty': ['l1', 'l2',\n",
       "                                                     'elasticnet']}],\n",
       "                   verbose=1)"
      ]
     },
     "execution_count": 58,
     "metadata": {},
     "output_type": "execute_result"
    }
   ],
   "source": [
    "#Fine Tuning Our Stochastic Gradient Descent Model Hyperparameters using RandomizedSearchCV\n",
    "\n",
    "sgd_param_grid = [\n",
    "            {'loss':['hinge', 'log', 'modified_huber', 'squared_hinge', 'perceptron'],\n",
    "            'penalty':['l1', 'l2', 'elasticnet'],\n",
    "            'alpha': [0.0001, 0.001, 0.01, 0.1, 1, 10, 100, 1000], \n",
    "            'learning_rate':['constant', 'optimal', 'invscaling', 'adaptive'],\n",
    "            'eta0': [1, 10, 100]}\n",
    "                    ]\n",
    "\n",
    "sgd_classifier = SGDClassifier()\n",
    "\n",
    "sgd_grid_search = RandomizedSearchCV(sgd_classifier, sgd_param_grid, cv=5, verbose=1)\n",
    "\n",
    "sgd_grid_search.fit(X_train, y_train_diabetic)\n"
   ]
  },
  {
   "cell_type": "code",
   "execution_count": 59,
   "metadata": {},
   "outputs": [
    {
     "name": "stderr",
     "output_type": "stream",
     "text": [
      "[Parallel(n_jobs=1)]: Using backend SequentialBackend with 1 concurrent workers.\n"
     ]
    },
    {
     "name": "stdout",
     "output_type": "stream",
     "text": [
      "Fitting 5 folds for each of 12 candidates, totalling 60 fits\n"
     ]
    },
    {
     "name": "stderr",
     "output_type": "stream",
     "text": [
      "[Parallel(n_jobs=1)]: Done  60 out of  60 | elapsed:   12.8s finished\n"
     ]
    },
    {
     "data": {
      "text/plain": [
       "GridSearchCV(cv=5, estimator=SVC(random_state=42),\n",
       "             param_grid=[{'C': [1, 10, 100, 1000], 'gamma': [0.001, 0.0001],\n",
       "                          'kernel': ['rbf']},\n",
       "                         {'C': [1, 10, 100, 1000], 'kernel': ['linear']}],\n",
       "             verbose=1)"
      ]
     },
     "execution_count": 59,
     "metadata": {},
     "output_type": "execute_result"
    }
   ],
   "source": [
    "# Fine-Tuning our SVC Model Hyperparameters Using GridSearch CV\n",
    "\n",
    "svc_param_grid = [\n",
    "                {'kernel': ['rbf'], 'gamma': [1e-3, 1e-4],'C': [1, 10, 100, 1000]},\n",
    "                {'kernel': ['linear'], 'C': [1, 10, 100, 1000]}\n",
    "                    ]\n",
    "\n",
    "svc_classifier = SVC(random_state=42)\n",
    "\n",
    "svc_grid_search = GridSearchCV(svc_classifier, svc_param_grid, cv=5, verbose=1)\n",
    "\n",
    "svc_grid_search.fit(X_train, y_train_diabetic)"
   ]
  },
  {
   "cell_type": "code",
   "execution_count": 60,
   "metadata": {},
   "outputs": [
    {
     "name": "stderr",
     "output_type": "stream",
     "text": [
      "[Parallel(n_jobs=1)]: Using backend SequentialBackend with 1 concurrent workers.\n",
      "[Parallel(n_jobs=1)]: Done   1 out of   1 | elapsed:    0.0s remaining:    0.0s\n",
      "[Parallel(n_jobs=1)]: Done   2 out of   2 | elapsed:    0.0s remaining:    0.0s\n"
     ]
    },
    {
     "name": "stdout",
     "output_type": "stream",
     "text": [
      "Fitting 5 folds for each of 48 candidates, totalling 240 fits\n",
      "[CV] max_features=2, n_estimators=2 ..................................\n",
      "[CV] ...... max_features=2, n_estimators=2, score=0.740, total=   0.0s\n",
      "[CV] max_features=2, n_estimators=2 ..................................\n",
      "[CV] ...... max_features=2, n_estimators=2, score=0.740, total=   0.0s\n",
      "[CV] max_features=2, n_estimators=2 ..................................\n",
      "[CV] ...... max_features=2, n_estimators=2, score=0.740, total=   0.1s\n",
      "[CV] max_features=2, n_estimators=2 ..................................\n",
      "[CV] ...... max_features=2, n_estimators=2, score=0.802, total=   0.0s\n",
      "[CV] max_features=2, n_estimators=2 ..................................\n",
      "[CV] ...... max_features=2, n_estimators=2, score=0.604, total=   0.0s\n",
      "[CV] max_features=2, n_estimators=3 ..................................\n",
      "[CV] ...... max_features=2, n_estimators=3, score=0.708, total=   0.0s\n",
      "[CV] max_features=2, n_estimators=3 ..................................\n",
      "[CV] ...... max_features=2, n_estimators=3, score=0.719, total=   0.0s\n",
      "[CV] max_features=2, n_estimators=3 ..................................\n",
      "[CV] ...... max_features=2, n_estimators=3, score=0.760, total=   0.0s\n",
      "[CV] max_features=2, n_estimators=3 ..................................\n",
      "[CV] ...... max_features=2, n_estimators=3, score=0.833, total=   0.0s\n",
      "[CV] max_features=2, n_estimators=3 ..................................\n",
      "[CV] ...... max_features=2, n_estimators=3, score=0.667, total=   0.0s\n",
      "[CV] max_features=2, n_estimators=5 ..................................\n",
      "[CV] ...... max_features=2, n_estimators=5, score=0.729, total=   0.0s\n",
      "[CV] max_features=2, n_estimators=5 ..................................\n",
      "[CV] ...... max_features=2, n_estimators=5, score=0.781, total=   0.0s\n",
      "[CV] max_features=2, n_estimators=5 ..................................\n",
      "[CV] ...... max_features=2, n_estimators=5, score=0.750, total=   0.0s\n",
      "[CV] max_features=2, n_estimators=5 ..................................\n",
      "[CV] ...... max_features=2, n_estimators=5, score=0.823, total=   0.0s\n",
      "[CV] max_features=2, n_estimators=5 ..................................\n",
      "[CV] ...... max_features=2, n_estimators=5, score=0.698, total=   0.0s\n",
      "[CV] max_features=2, n_estimators=8 ..................................\n",
      "[CV] ...... max_features=2, n_estimators=8, score=0.760, total=   0.0s\n",
      "[CV] max_features=2, n_estimators=8 ..................................\n",
      "[CV] ...... max_features=2, n_estimators=8, score=0.771, total=   0.0s\n",
      "[CV] max_features=2, n_estimators=8 ..................................\n",
      "[CV] ...... max_features=2, n_estimators=8, score=0.750, total=   0.1s\n",
      "[CV] max_features=2, n_estimators=8 ..................................\n",
      "[CV] ...... max_features=2, n_estimators=8, score=0.833, total=   0.0s\n",
      "[CV] max_features=2, n_estimators=8 ..................................\n",
      "[CV] ...... max_features=2, n_estimators=8, score=0.729, total=   0.0s\n",
      "[CV] max_features=2, n_estimators=13 .................................\n",
      "[CV] ..... max_features=2, n_estimators=13, score=0.719, total=   0.1s\n",
      "[CV] max_features=2, n_estimators=13 .................................\n",
      "[CV] ..... max_features=2, n_estimators=13, score=0.792, total=   0.1s\n",
      "[CV] max_features=2, n_estimators=13 .................................\n",
      "[CV] ..... max_features=2, n_estimators=13, score=0.740, total=   0.1s\n",
      "[CV] max_features=2, n_estimators=13 .................................\n",
      "[CV] ..... max_features=2, n_estimators=13, score=0.823, total=   0.1s\n",
      "[CV] max_features=2, n_estimators=13 .................................\n",
      "[CV] ..... max_features=2, n_estimators=13, score=0.760, total=   0.2s\n",
      "[CV] max_features=2, n_estimators=21 .................................\n",
      "[CV] ..... max_features=2, n_estimators=21, score=0.760, total=   0.3s\n",
      "[CV] max_features=2, n_estimators=21 .................................\n",
      "[CV] ..... max_features=2, n_estimators=21, score=0.750, total=   0.3s\n",
      "[CV] max_features=2, n_estimators=21 .................................\n",
      "[CV] ..... max_features=2, n_estimators=21, score=0.750, total=   0.1s\n",
      "[CV] max_features=2, n_estimators=21 .................................\n",
      "[CV] ..... max_features=2, n_estimators=21, score=0.812, total=   0.1s\n",
      "[CV] max_features=2, n_estimators=21 .................................\n",
      "[CV] ..... max_features=2, n_estimators=21, score=0.708, total=   0.1s\n",
      "[CV] max_features=2, n_estimators=34 .................................\n",
      "[CV] ..... max_features=2, n_estimators=34, score=0.750, total=   0.2s\n",
      "[CV] max_features=2, n_estimators=34 .................................\n",
      "[CV] ..... max_features=2, n_estimators=34, score=0.740, total=   0.1s\n",
      "[CV] max_features=2, n_estimators=34 .................................\n",
      "[CV] ..... max_features=2, n_estimators=34, score=0.771, total=   0.1s\n",
      "[CV] max_features=2, n_estimators=34 .................................\n",
      "[CV] ..... max_features=2, n_estimators=34, score=0.844, total=   0.1s\n",
      "[CV] max_features=2, n_estimators=34 .................................\n",
      "[CV] ..... max_features=2, n_estimators=34, score=0.729, total=   0.1s\n",
      "[CV] max_features=2, n_estimators=56 .................................\n",
      "[CV] ..... max_features=2, n_estimators=56, score=0.781, total=   0.2s\n",
      "[CV] max_features=2, n_estimators=56 .................................\n",
      "[CV] ..... max_features=2, n_estimators=56, score=0.740, total=   0.2s\n",
      "[CV] max_features=2, n_estimators=56 .................................\n",
      "[CV] ..... max_features=2, n_estimators=56, score=0.771, total=   0.2s\n",
      "[CV] max_features=2, n_estimators=56 .................................\n",
      "[CV] ..... max_features=2, n_estimators=56, score=0.792, total=   0.2s\n",
      "[CV] max_features=2, n_estimators=56 .................................\n",
      "[CV] ..... max_features=2, n_estimators=56, score=0.708, total=   0.3s\n",
      "[CV] max_features=4, n_estimators=2 ..................................\n",
      "[CV] ...... max_features=4, n_estimators=2, score=0.771, total=   0.0s\n",
      "[CV] max_features=4, n_estimators=2 ..................................\n",
      "[CV] ...... max_features=4, n_estimators=2, score=0.781, total=   0.0s\n",
      "[CV] max_features=4, n_estimators=2 ..................................\n",
      "[CV] ...... max_features=4, n_estimators=2, score=0.740, total=   0.0s\n",
      "[CV] max_features=4, n_estimators=2 ..................................\n",
      "[CV] ...... max_features=4, n_estimators=2, score=0.708, total=   0.0s\n",
      "[CV] max_features=4, n_estimators=2 ..................................\n",
      "[CV] ...... max_features=4, n_estimators=2, score=0.719, total=   0.0s\n",
      "[CV] max_features=4, n_estimators=3 ..................................\n",
      "[CV] ...... max_features=4, n_estimators=3, score=0.760, total=   0.0s\n",
      "[CV] max_features=4, n_estimators=3 ..................................\n",
      "[CV] ...... max_features=4, n_estimators=3, score=0.771, total=   0.0s\n",
      "[CV] max_features=4, n_estimators=3 ..................................\n",
      "[CV] ...... max_features=4, n_estimators=3, score=0.719, total=   0.0s\n",
      "[CV] max_features=4, n_estimators=3 ..................................\n",
      "[CV] ...... max_features=4, n_estimators=3, score=0.740, total=   0.0s\n",
      "[CV] max_features=4, n_estimators=3 ..................................\n",
      "[CV] ...... max_features=4, n_estimators=3, score=0.740, total=   0.0s\n",
      "[CV] max_features=4, n_estimators=5 ..................................\n",
      "[CV] ...... max_features=4, n_estimators=5, score=0.760, total=   0.0s\n",
      "[CV] max_features=4, n_estimators=5 ..................................\n",
      "[CV] ...... max_features=4, n_estimators=5, score=0.792, total=   0.0s\n",
      "[CV] max_features=4, n_estimators=5 ..................................\n",
      "[CV] ...... max_features=4, n_estimators=5, score=0.729, total=   0.0s\n",
      "[CV] max_features=4, n_estimators=5 ..................................\n",
      "[CV] ...... max_features=4, n_estimators=5, score=0.740, total=   0.0s\n",
      "[CV] max_features=4, n_estimators=5 ..................................\n",
      "[CV] ...... max_features=4, n_estimators=5, score=0.729, total=   0.0s\n",
      "[CV] max_features=4, n_estimators=8 ..................................\n",
      "[CV] ...... max_features=4, n_estimators=8, score=0.760, total=   0.0s\n",
      "[CV] max_features=4, n_estimators=8 ..................................\n",
      "[CV] ...... max_features=4, n_estimators=8, score=0.802, total=   0.0s\n",
      "[CV] max_features=4, n_estimators=8 ..................................\n",
      "[CV] ...... max_features=4, n_estimators=8, score=0.729, total=   0.0s\n",
      "[CV] max_features=4, n_estimators=8 ..................................\n",
      "[CV] ...... max_features=4, n_estimators=8, score=0.781, total=   0.0s\n",
      "[CV] max_features=4, n_estimators=8 ..................................\n",
      "[CV] ...... max_features=4, n_estimators=8, score=0.750, total=   0.0s\n",
      "[CV] max_features=4, n_estimators=13 .................................\n",
      "[CV] ..... max_features=4, n_estimators=13, score=0.771, total=   0.0s\n",
      "[CV] max_features=4, n_estimators=13 .................................\n",
      "[CV] ..... max_features=4, n_estimators=13, score=0.833, total=   0.0s\n",
      "[CV] max_features=4, n_estimators=13 .................................\n",
      "[CV] ..... max_features=4, n_estimators=13, score=0.698, total=   0.0s\n",
      "[CV] max_features=4, n_estimators=13 .................................\n",
      "[CV] ..... max_features=4, n_estimators=13, score=0.812, total=   0.0s\n",
      "[CV] max_features=4, n_estimators=13 .................................\n",
      "[CV] ..... max_features=4, n_estimators=13, score=0.729, total=   0.1s\n",
      "[CV] max_features=4, n_estimators=21 .................................\n",
      "[CV] ..... max_features=4, n_estimators=21, score=0.719, total=   0.1s\n",
      "[CV] max_features=4, n_estimators=21 .................................\n",
      "[CV] ..... max_features=4, n_estimators=21, score=0.792, total=   0.1s\n",
      "[CV] max_features=4, n_estimators=21 .................................\n",
      "[CV] ..... max_features=4, n_estimators=21, score=0.760, total=   0.1s\n",
      "[CV] max_features=4, n_estimators=21 .................................\n",
      "[CV] ..... max_features=4, n_estimators=21, score=0.802, total=   0.1s\n",
      "[CV] max_features=4, n_estimators=21 .................................\n",
      "[CV] ..... max_features=4, n_estimators=21, score=0.760, total=   0.1s\n",
      "[CV] max_features=4, n_estimators=34 .................................\n",
      "[CV] ..... max_features=4, n_estimators=34, score=0.760, total=   0.1s\n",
      "[CV] max_features=4, n_estimators=34 .................................\n",
      "[CV] ..... max_features=4, n_estimators=34, score=0.760, total=   0.1s\n",
      "[CV] max_features=4, n_estimators=34 .................................\n",
      "[CV] ..... max_features=4, n_estimators=34, score=0.750, total=   0.1s\n",
      "[CV] max_features=4, n_estimators=34 .................................\n",
      "[CV] ..... max_features=4, n_estimators=34, score=0.792, total=   0.1s\n",
      "[CV] max_features=4, n_estimators=34 .................................\n",
      "[CV] ..... max_features=4, n_estimators=34, score=0.740, total=   0.1s\n",
      "[CV] max_features=4, n_estimators=56 .................................\n",
      "[CV] ..... max_features=4, n_estimators=56, score=0.760, total=   0.2s\n",
      "[CV] max_features=4, n_estimators=56 .................................\n",
      "[CV] ..... max_features=4, n_estimators=56, score=0.750, total=   0.1s\n",
      "[CV] max_features=4, n_estimators=56 .................................\n",
      "[CV] ..... max_features=4, n_estimators=56, score=0.760, total=   0.2s\n",
      "[CV] max_features=4, n_estimators=56 .................................\n",
      "[CV] ..... max_features=4, n_estimators=56, score=0.802, total=   0.2s\n",
      "[CV] max_features=4, n_estimators=56 .................................\n",
      "[CV] ..... max_features=4, n_estimators=56, score=0.740, total=   0.2s\n",
      "[CV] max_features=6, n_estimators=2 ..................................\n",
      "[CV] ...... max_features=6, n_estimators=2, score=0.771, total=   0.0s\n",
      "[CV] max_features=6, n_estimators=2 ..................................\n",
      "[CV] ...... max_features=6, n_estimators=2, score=0.729, total=   0.0s\n",
      "[CV] max_features=6, n_estimators=2 ..................................\n",
      "[CV] ...... max_features=6, n_estimators=2, score=0.667, total=   0.0s\n",
      "[CV] max_features=6, n_estimators=2 ..................................\n",
      "[CV] ...... max_features=6, n_estimators=2, score=0.708, total=   0.0s\n",
      "[CV] max_features=6, n_estimators=2 ..................................\n",
      "[CV] ...... max_features=6, n_estimators=2, score=0.698, total=   0.0s\n",
      "[CV] max_features=6, n_estimators=3 ..................................\n",
      "[CV] ...... max_features=6, n_estimators=3, score=0.760, total=   0.0s\n",
      "[CV] max_features=6, n_estimators=3 ..................................\n",
      "[CV] ...... max_features=6, n_estimators=3, score=0.688, total=   0.0s\n",
      "[CV] max_features=6, n_estimators=3 ..................................\n",
      "[CV] ...... max_features=6, n_estimators=3, score=0.677, total=   0.0s\n",
      "[CV] max_features=6, n_estimators=3 ..................................\n",
      "[CV] ...... max_features=6, n_estimators=3, score=0.740, total=   0.0s\n",
      "[CV] max_features=6, n_estimators=3 ..................................\n",
      "[CV] ...... max_features=6, n_estimators=3, score=0.729, total=   0.0s\n",
      "[CV] max_features=6, n_estimators=5 ..................................\n",
      "[CV] ...... max_features=6, n_estimators=5, score=0.708, total=   0.0s\n",
      "[CV] max_features=6, n_estimators=5 ..................................\n",
      "[CV] ...... max_features=6, n_estimators=5, score=0.760, total=   0.0s\n",
      "[CV] max_features=6, n_estimators=5 ..................................\n",
      "[CV] ...... max_features=6, n_estimators=5, score=0.688, total=   0.0s\n",
      "[CV] max_features=6, n_estimators=5 ..................................\n",
      "[CV] ...... max_features=6, n_estimators=5, score=0.771, total=   0.0s\n",
      "[CV] max_features=6, n_estimators=5 ..................................\n",
      "[CV] ...... max_features=6, n_estimators=5, score=0.719, total=   0.0s\n",
      "[CV] max_features=6, n_estimators=8 ..................................\n",
      "[CV] ...... max_features=6, n_estimators=8, score=0.760, total=   0.0s\n",
      "[CV] max_features=6, n_estimators=8 ..................................\n",
      "[CV] ...... max_features=6, n_estimators=8, score=0.729, total=   0.0s\n",
      "[CV] max_features=6, n_estimators=8 ..................................\n",
      "[CV] ...... max_features=6, n_estimators=8, score=0.719, total=   0.0s\n",
      "[CV] max_features=6, n_estimators=8 ..................................\n",
      "[CV] ...... max_features=6, n_estimators=8, score=0.781, total=   0.0s\n",
      "[CV] max_features=6, n_estimators=8 ..................................\n",
      "[CV] ...... max_features=6, n_estimators=8, score=0.698, total=   0.0s\n",
      "[CV] max_features=6, n_estimators=13 .................................\n",
      "[CV] ..... max_features=6, n_estimators=13, score=0.760, total=   0.1s\n",
      "[CV] max_features=6, n_estimators=13 .................................\n",
      "[CV] ..... max_features=6, n_estimators=13, score=0.781, total=   0.1s\n",
      "[CV] max_features=6, n_estimators=13 .................................\n",
      "[CV] ..... max_features=6, n_estimators=13, score=0.708, total=   0.1s\n",
      "[CV] max_features=6, n_estimators=13 .................................\n",
      "[CV] ..... max_features=6, n_estimators=13, score=0.792, total=   0.1s\n",
      "[CV] max_features=6, n_estimators=13 .................................\n",
      "[CV] ..... max_features=6, n_estimators=13, score=0.698, total=   0.0s\n",
      "[CV] max_features=6, n_estimators=21 .................................\n",
      "[CV] ..... max_features=6, n_estimators=21, score=0.729, total=   0.1s\n",
      "[CV] max_features=6, n_estimators=21 .................................\n",
      "[CV] ..... max_features=6, n_estimators=21, score=0.771, total=   0.1s\n",
      "[CV] max_features=6, n_estimators=21 .................................\n",
      "[CV] ..... max_features=6, n_estimators=21, score=0.698, total=   0.1s\n",
      "[CV] max_features=6, n_estimators=21 .................................\n",
      "[CV] ..... max_features=6, n_estimators=21, score=0.802, total=   0.1s\n",
      "[CV] max_features=6, n_estimators=21 .................................\n",
      "[CV] ..... max_features=6, n_estimators=21, score=0.688, total=   0.1s\n",
      "[CV] max_features=6, n_estimators=34 .................................\n",
      "[CV] ..... max_features=6, n_estimators=34, score=0.771, total=   0.1s\n",
      "[CV] max_features=6, n_estimators=34 .................................\n",
      "[CV] ..... max_features=6, n_estimators=34, score=0.771, total=   0.1s\n",
      "[CV] max_features=6, n_estimators=34 .................................\n",
      "[CV] ..... max_features=6, n_estimators=34, score=0.729, total=   0.1s\n",
      "[CV] max_features=6, n_estimators=34 .................................\n",
      "[CV] ..... max_features=6, n_estimators=34, score=0.802, total=   0.2s\n",
      "[CV] max_features=6, n_estimators=34 .................................\n",
      "[CV] ..... max_features=6, n_estimators=34, score=0.740, total=   0.1s\n",
      "[CV] max_features=6, n_estimators=56 .................................\n",
      "[CV] ..... max_features=6, n_estimators=56, score=0.781, total=   0.2s\n",
      "[CV] max_features=6, n_estimators=56 .................................\n",
      "[CV] ..... max_features=6, n_estimators=56, score=0.750, total=   0.2s\n",
      "[CV] max_features=6, n_estimators=56 .................................\n",
      "[CV] ..... max_features=6, n_estimators=56, score=0.729, total=   0.2s\n",
      "[CV] max_features=6, n_estimators=56 .................................\n",
      "[CV] ..... max_features=6, n_estimators=56, score=0.792, total=   0.2s\n",
      "[CV] max_features=6, n_estimators=56 .................................\n",
      "[CV] ..... max_features=6, n_estimators=56, score=0.708, total=   0.6s\n",
      "[CV] max_features=8, n_estimators=2 ..................................\n",
      "[CV] ...... max_features=8, n_estimators=2, score=0.729, total=   0.0s\n",
      "[CV] max_features=8, n_estimators=2 ..................................\n",
      "[CV] ...... max_features=8, n_estimators=2, score=0.760, total=   0.0s\n",
      "[CV] max_features=8, n_estimators=2 ..................................\n",
      "[CV] ...... max_features=8, n_estimators=2, score=0.656, total=   0.0s\n",
      "[CV] max_features=8, n_estimators=2 ..................................\n",
      "[CV] ...... max_features=8, n_estimators=2, score=0.750, total=   0.0s\n",
      "[CV] max_features=8, n_estimators=2 ..................................\n",
      "[CV] ...... max_features=8, n_estimators=2, score=0.740, total=   0.0s\n",
      "[CV] max_features=8, n_estimators=3 ..................................\n",
      "[CV] ...... max_features=8, n_estimators=3, score=0.750, total=   0.0s\n",
      "[CV] max_features=8, n_estimators=3 ..................................\n",
      "[CV] ...... max_features=8, n_estimators=3, score=0.719, total=   0.0s\n",
      "[CV] max_features=8, n_estimators=3 ..................................\n",
      "[CV] ...... max_features=8, n_estimators=3, score=0.698, total=   0.0s\n",
      "[CV] max_features=8, n_estimators=3 ..................................\n",
      "[CV] ...... max_features=8, n_estimators=3, score=0.750, total=   0.0s\n",
      "[CV] max_features=8, n_estimators=3 ..................................\n",
      "[CV] ...... max_features=8, n_estimators=3, score=0.677, total=   0.0s\n",
      "[CV] max_features=8, n_estimators=5 ..................................\n",
      "[CV] ...... max_features=8, n_estimators=5, score=0.760, total=   0.0s\n",
      "[CV] max_features=8, n_estimators=5 ..................................\n",
      "[CV] ...... max_features=8, n_estimators=5, score=0.740, total=   0.0s\n",
      "[CV] max_features=8, n_estimators=5 ..................................\n",
      "[CV] ...... max_features=8, n_estimators=5, score=0.688, total=   0.0s\n",
      "[CV] max_features=8, n_estimators=5 ..................................\n",
      "[CV] ...... max_features=8, n_estimators=5, score=0.781, total=   0.0s\n",
      "[CV] max_features=8, n_estimators=5 ..................................\n",
      "[CV] ...... max_features=8, n_estimators=5, score=0.667, total=   0.0s\n",
      "[CV] max_features=8, n_estimators=8 ..................................\n",
      "[CV] ...... max_features=8, n_estimators=8, score=0.771, total=   0.0s\n",
      "[CV] max_features=8, n_estimators=8 ..................................\n",
      "[CV] ...... max_features=8, n_estimators=8, score=0.740, total=   0.0s\n",
      "[CV] max_features=8, n_estimators=8 ..................................\n",
      "[CV] ...... max_features=8, n_estimators=8, score=0.740, total=   0.1s\n",
      "[CV] max_features=8, n_estimators=8 ..................................\n",
      "[CV] ...... max_features=8, n_estimators=8, score=0.781, total=   0.1s\n",
      "[CV] max_features=8, n_estimators=8 ..................................\n",
      "[CV] ...... max_features=8, n_estimators=8, score=0.677, total=   0.1s\n",
      "[CV] max_features=8, n_estimators=13 .................................\n",
      "[CV] ..... max_features=8, n_estimators=13, score=0.760, total=   0.1s\n",
      "[CV] max_features=8, n_estimators=13 .................................\n",
      "[CV] ..... max_features=8, n_estimators=13, score=0.771, total=   0.1s\n",
      "[CV] max_features=8, n_estimators=13 .................................\n",
      "[CV] ..... max_features=8, n_estimators=13, score=0.719, total=   0.1s\n",
      "[CV] max_features=8, n_estimators=13 .................................\n",
      "[CV] ..... max_features=8, n_estimators=13, score=0.792, total=   0.1s\n",
      "[CV] max_features=8, n_estimators=13 .................................\n",
      "[CV] ..... max_features=8, n_estimators=13, score=0.646, total=   0.1s\n",
      "[CV] max_features=8, n_estimators=21 .................................\n",
      "[CV] ..... max_features=8, n_estimators=21, score=0.760, total=   0.1s\n",
      "[CV] max_features=8, n_estimators=21 .................................\n",
      "[CV] ..... max_features=8, n_estimators=21, score=0.771, total=   0.1s\n",
      "[CV] max_features=8, n_estimators=21 .................................\n",
      "[CV] ..... max_features=8, n_estimators=21, score=0.760, total=   0.1s\n",
      "[CV] max_features=8, n_estimators=21 .................................\n",
      "[CV] ..... max_features=8, n_estimators=21, score=0.812, total=   0.1s\n",
      "[CV] max_features=8, n_estimators=21 .................................\n",
      "[CV] ..... max_features=8, n_estimators=21, score=0.688, total=   0.1s\n",
      "[CV] max_features=8, n_estimators=34 .................................\n",
      "[CV] ..... max_features=8, n_estimators=34, score=0.771, total=   0.2s\n",
      "[CV] max_features=8, n_estimators=34 .................................\n",
      "[CV] ..... max_features=8, n_estimators=34, score=0.750, total=   0.1s\n",
      "[CV] max_features=8, n_estimators=34 .................................\n",
      "[CV] ..... max_features=8, n_estimators=34, score=0.760, total=   0.2s\n",
      "[CV] max_features=8, n_estimators=34 .................................\n",
      "[CV] ..... max_features=8, n_estimators=34, score=0.812, total=   0.1s\n",
      "[CV] max_features=8, n_estimators=34 .................................\n",
      "[CV] ..... max_features=8, n_estimators=34, score=0.698, total=   0.1s\n",
      "[CV] max_features=8, n_estimators=56 .................................\n",
      "[CV] ..... max_features=8, n_estimators=56, score=0.760, total=   0.3s\n",
      "[CV] max_features=8, n_estimators=56 .................................\n",
      "[CV] ..... max_features=8, n_estimators=56, score=0.740, total=   0.2s\n",
      "[CV] max_features=8, n_estimators=56 .................................\n",
      "[CV] ..... max_features=8, n_estimators=56, score=0.771, total=   0.2s\n",
      "[CV] max_features=8, n_estimators=56 .................................\n",
      "[CV] ..... max_features=8, n_estimators=56, score=0.823, total=   0.2s\n",
      "[CV] max_features=8, n_estimators=56 .................................\n",
      "[CV] ..... max_features=8, n_estimators=56, score=0.688, total=   0.2s\n",
      "[CV] bootstrap=False, max_features=2, n_estimators=5 .................\n",
      "[CV]  bootstrap=False, max_features=2, n_estimators=5, score=0.760, total=   0.0s\n",
      "[CV] bootstrap=False, max_features=2, n_estimators=5 .................\n",
      "[CV]  bootstrap=False, max_features=2, n_estimators=5, score=0.781, total=   0.0s\n",
      "[CV] bootstrap=False, max_features=2, n_estimators=5 .................\n",
      "[CV]  bootstrap=False, max_features=2, n_estimators=5, score=0.698, total=   0.0s\n",
      "[CV] bootstrap=False, max_features=2, n_estimators=5 .................\n",
      "[CV]  bootstrap=False, max_features=2, n_estimators=5, score=0.833, total=   0.0s\n",
      "[CV] bootstrap=False, max_features=2, n_estimators=5 .................\n",
      "[CV]  bootstrap=False, max_features=2, n_estimators=5, score=0.719, total=   0.0s\n",
      "[CV] bootstrap=False, max_features=2, n_estimators=8 .................\n",
      "[CV]  bootstrap=False, max_features=2, n_estimators=8, score=0.771, total=   0.0s\n",
      "[CV] bootstrap=False, max_features=2, n_estimators=8 .................\n",
      "[CV]  bootstrap=False, max_features=2, n_estimators=8, score=0.750, total=   0.0s\n",
      "[CV] bootstrap=False, max_features=2, n_estimators=8 .................\n",
      "[CV]  bootstrap=False, max_features=2, n_estimators=8, score=0.708, total=   0.0s\n",
      "[CV] bootstrap=False, max_features=2, n_estimators=8 .................\n",
      "[CV]  bootstrap=False, max_features=2, n_estimators=8, score=0.792, total=   0.0s\n",
      "[CV] bootstrap=False, max_features=2, n_estimators=8 .................\n",
      "[CV]  bootstrap=False, max_features=2, n_estimators=8, score=0.719, total=   0.0s\n",
      "[CV] bootstrap=False, max_features=2, n_estimators=13 ................\n",
      "[CV]  bootstrap=False, max_features=2, n_estimators=13, score=0.771, total=   0.0s\n",
      "[CV] bootstrap=False, max_features=2, n_estimators=13 ................\n",
      "[CV]  bootstrap=False, max_features=2, n_estimators=13, score=0.740, total=   0.0s\n",
      "[CV] bootstrap=False, max_features=2, n_estimators=13 ................\n",
      "[CV]  bootstrap=False, max_features=2, n_estimators=13, score=0.719, total=   0.0s\n",
      "[CV] bootstrap=False, max_features=2, n_estimators=13 ................\n",
      "[CV]  bootstrap=False, max_features=2, n_estimators=13, score=0.844, total=   0.0s\n",
      "[CV] bootstrap=False, max_features=2, n_estimators=13 ................\n",
      "[CV]  bootstrap=False, max_features=2, n_estimators=13, score=0.688, total=   0.0s\n",
      "[CV] bootstrap=False, max_features=2, n_estimators=21 ................\n",
      "[CV]  bootstrap=False, max_features=2, n_estimators=21, score=0.792, total=   0.1s\n",
      "[CV] bootstrap=False, max_features=2, n_estimators=21 ................\n",
      "[CV]  bootstrap=False, max_features=2, n_estimators=21, score=0.781, total=   0.1s\n",
      "[CV] bootstrap=False, max_features=2, n_estimators=21 ................\n",
      "[CV]  bootstrap=False, max_features=2, n_estimators=21, score=0.719, total=   0.1s\n",
      "[CV] bootstrap=False, max_features=2, n_estimators=21 ................\n",
      "[CV]  bootstrap=False, max_features=2, n_estimators=21, score=0.833, total=   0.1s\n",
      "[CV] bootstrap=False, max_features=2, n_estimators=21 ................\n",
      "[CV]  bootstrap=False, max_features=2, n_estimators=21, score=0.698, total=   0.1s\n",
      "[CV] bootstrap=False, max_features=4, n_estimators=5 .................\n",
      "[CV]  bootstrap=False, max_features=4, n_estimators=5, score=0.781, total=   0.0s\n",
      "[CV] bootstrap=False, max_features=4, n_estimators=5 .................\n",
      "[CV]  bootstrap=False, max_features=4, n_estimators=5, score=0.771, total=   0.0s\n",
      "[CV] bootstrap=False, max_features=4, n_estimators=5 .................\n",
      "[CV]  bootstrap=False, max_features=4, n_estimators=5, score=0.740, total=   0.1s\n",
      "[CV] bootstrap=False, max_features=4, n_estimators=5 .................\n",
      "[CV]  bootstrap=False, max_features=4, n_estimators=5, score=0.792, total=   0.0s\n",
      "[CV] bootstrap=False, max_features=4, n_estimators=5 .................\n",
      "[CV]  bootstrap=False, max_features=4, n_estimators=5, score=0.677, total=   0.1s\n",
      "[CV] bootstrap=False, max_features=4, n_estimators=8 .................\n",
      "[CV]  bootstrap=False, max_features=4, n_estimators=8, score=0.802, total=   0.1s\n",
      "[CV] bootstrap=False, max_features=4, n_estimators=8 .................\n",
      "[CV]  bootstrap=False, max_features=4, n_estimators=8, score=0.760, total=   0.0s\n",
      "[CV] bootstrap=False, max_features=4, n_estimators=8 .................\n",
      "[CV]  bootstrap=False, max_features=4, n_estimators=8, score=0.750, total=   0.0s\n",
      "[CV] bootstrap=False, max_features=4, n_estimators=8 .................\n",
      "[CV]  bootstrap=False, max_features=4, n_estimators=8, score=0.760, total=   0.0s\n",
      "[CV] bootstrap=False, max_features=4, n_estimators=8 .................\n",
      "[CV]  bootstrap=False, max_features=4, n_estimators=8, score=0.656, total=   0.0s\n",
      "[CV] bootstrap=False, max_features=4, n_estimators=13 ................\n",
      "[CV]  bootstrap=False, max_features=4, n_estimators=13, score=0.740, total=   0.1s\n",
      "[CV] bootstrap=False, max_features=4, n_estimators=13 ................\n",
      "[CV]  bootstrap=False, max_features=4, n_estimators=13, score=0.760, total=   0.1s\n",
      "[CV] bootstrap=False, max_features=4, n_estimators=13 ................\n",
      "[CV]  bootstrap=False, max_features=4, n_estimators=13, score=0.750, total=   0.1s\n",
      "[CV] bootstrap=False, max_features=4, n_estimators=13 ................\n",
      "[CV]  bootstrap=False, max_features=4, n_estimators=13, score=0.771, total=   0.1s\n",
      "[CV] bootstrap=False, max_features=4, n_estimators=13 ................\n",
      "[CV]  bootstrap=False, max_features=4, n_estimators=13, score=0.677, total=   0.1s\n",
      "[CV] bootstrap=False, max_features=4, n_estimators=21 ................\n",
      "[CV]  bootstrap=False, max_features=4, n_estimators=21, score=0.750, total=   0.1s\n",
      "[CV] bootstrap=False, max_features=4, n_estimators=21 ................\n",
      "[CV]  bootstrap=False, max_features=4, n_estimators=21, score=0.750, total=   0.1s\n",
      "[CV] bootstrap=False, max_features=4, n_estimators=21 ................\n",
      "[CV]  bootstrap=False, max_features=4, n_estimators=21, score=0.760, total=   0.1s\n",
      "[CV] bootstrap=False, max_features=4, n_estimators=21 ................\n",
      "[CV]  bootstrap=False, max_features=4, n_estimators=21, score=0.792, total=   0.1s\n",
      "[CV] bootstrap=False, max_features=4, n_estimators=21 ................\n",
      "[CV]  bootstrap=False, max_features=4, n_estimators=21, score=0.688, total=   0.1s\n",
      "[CV] bootstrap=False, max_features=6, n_estimators=5 .................\n",
      "[CV]  bootstrap=False, max_features=6, n_estimators=5, score=0.729, total=   0.0s\n",
      "[CV] bootstrap=False, max_features=6, n_estimators=5 .................\n",
      "[CV]  bootstrap=False, max_features=6, n_estimators=5, score=0.771, total=   0.0s\n",
      "[CV] bootstrap=False, max_features=6, n_estimators=5 .................\n",
      "[CV]  bootstrap=False, max_features=6, n_estimators=5, score=0.719, total=   0.0s\n",
      "[CV] bootstrap=False, max_features=6, n_estimators=5 .................\n",
      "[CV]  bootstrap=False, max_features=6, n_estimators=5, score=0.760, total=   0.0s\n",
      "[CV] bootstrap=False, max_features=6, n_estimators=5 .................\n",
      "[CV]  bootstrap=False, max_features=6, n_estimators=5, score=0.667, total=   0.0s\n",
      "[CV] bootstrap=False, max_features=6, n_estimators=8 .................\n",
      "[CV]  bootstrap=False, max_features=6, n_estimators=8, score=0.750, total=   0.0s\n",
      "[CV] bootstrap=False, max_features=6, n_estimators=8 .................\n",
      "[CV]  bootstrap=False, max_features=6, n_estimators=8, score=0.781, total=   0.0s\n",
      "[CV] bootstrap=False, max_features=6, n_estimators=8 .................\n",
      "[CV]  bootstrap=False, max_features=6, n_estimators=8, score=0.698, total=   0.0s\n",
      "[CV] bootstrap=False, max_features=6, n_estimators=8 .................\n",
      "[CV]  bootstrap=False, max_features=6, n_estimators=8, score=0.760, total=   0.0s\n",
      "[CV] bootstrap=False, max_features=6, n_estimators=8 .................\n",
      "[CV]  bootstrap=False, max_features=6, n_estimators=8, score=0.667, total=   0.1s\n",
      "[CV] bootstrap=False, max_features=6, n_estimators=13 ................\n",
      "[CV]  bootstrap=False, max_features=6, n_estimators=13, score=0.781, total=   0.1s\n",
      "[CV] bootstrap=False, max_features=6, n_estimators=13 ................\n",
      "[CV]  bootstrap=False, max_features=6, n_estimators=13, score=0.781, total=   0.1s\n",
      "[CV] bootstrap=False, max_features=6, n_estimators=13 ................\n",
      "[CV]  bootstrap=False, max_features=6, n_estimators=13, score=0.688, total=   0.0s\n",
      "[CV] bootstrap=False, max_features=6, n_estimators=13 ................\n",
      "[CV]  bootstrap=False, max_features=6, n_estimators=13, score=0.740, total=   0.1s\n",
      "[CV] bootstrap=False, max_features=6, n_estimators=13 ................\n",
      "[CV]  bootstrap=False, max_features=6, n_estimators=13, score=0.667, total=   0.1s\n",
      "[CV] bootstrap=False, max_features=6, n_estimators=21 ................\n",
      "[CV]  bootstrap=False, max_features=6, n_estimators=21, score=0.740, total=   0.1s\n",
      "[CV] bootstrap=False, max_features=6, n_estimators=21 ................\n",
      "[CV]  bootstrap=False, max_features=6, n_estimators=21, score=0.760, total=   0.1s\n",
      "[CV] bootstrap=False, max_features=6, n_estimators=21 ................\n",
      "[CV]  bootstrap=False, max_features=6, n_estimators=21, score=0.729, total=   0.1s\n",
      "[CV] bootstrap=False, max_features=6, n_estimators=21 ................\n",
      "[CV]  bootstrap=False, max_features=6, n_estimators=21, score=0.771, total=   0.1s\n",
      "[CV] bootstrap=False, max_features=6, n_estimators=21 ................\n",
      "[CV]  bootstrap=False, max_features=6, n_estimators=21, score=0.656, total=   0.1s\n",
      "[CV] bootstrap=False, max_features=8, n_estimators=5 .................\n",
      "[CV]  bootstrap=False, max_features=8, n_estimators=5, score=0.719, total=   0.1s\n",
      "[CV] bootstrap=False, max_features=8, n_estimators=5 .................\n",
      "[CV]  bootstrap=False, max_features=8, n_estimators=5, score=0.781, total=   0.0s\n",
      "[CV] bootstrap=False, max_features=8, n_estimators=5 .................\n",
      "[CV]  bootstrap=False, max_features=8, n_estimators=5, score=0.698, total=   0.0s\n",
      "[CV] bootstrap=False, max_features=8, n_estimators=5 .................\n",
      "[CV]  bootstrap=False, max_features=8, n_estimators=5, score=0.771, total=   0.0s\n",
      "[CV] bootstrap=False, max_features=8, n_estimators=5 .................\n",
      "[CV]  bootstrap=False, max_features=8, n_estimators=5, score=0.615, total=   0.0s\n",
      "[CV] bootstrap=False, max_features=8, n_estimators=8 .................\n",
      "[CV]  bootstrap=False, max_features=8, n_estimators=8, score=0.719, total=   0.0s\n",
      "[CV] bootstrap=False, max_features=8, n_estimators=8 .................\n",
      "[CV]  bootstrap=False, max_features=8, n_estimators=8, score=0.771, total=   0.0s\n",
      "[CV] bootstrap=False, max_features=8, n_estimators=8 .................\n",
      "[CV]  bootstrap=False, max_features=8, n_estimators=8, score=0.688, total=   0.0s\n",
      "[CV] bootstrap=False, max_features=8, n_estimators=8 .................\n",
      "[CV]  bootstrap=False, max_features=8, n_estimators=8, score=0.771, total=   0.0s\n",
      "[CV] bootstrap=False, max_features=8, n_estimators=8 .................\n",
      "[CV]  bootstrap=False, max_features=8, n_estimators=8, score=0.646, total=   0.0s\n",
      "[CV] bootstrap=False, max_features=8, n_estimators=13 ................\n",
      "[CV]  bootstrap=False, max_features=8, n_estimators=13, score=0.719, total=   0.1s\n",
      "[CV] bootstrap=False, max_features=8, n_estimators=13 ................\n",
      "[CV]  bootstrap=False, max_features=8, n_estimators=13, score=0.792, total=   0.1s\n",
      "[CV] bootstrap=False, max_features=8, n_estimators=13 ................\n",
      "[CV]  bootstrap=False, max_features=8, n_estimators=13, score=0.688, total=   0.1s\n",
      "[CV] bootstrap=False, max_features=8, n_estimators=13 ................\n",
      "[CV]  bootstrap=False, max_features=8, n_estimators=13, score=0.750, total=   0.1s\n",
      "[CV] bootstrap=False, max_features=8, n_estimators=13 ................\n",
      "[CV]  bootstrap=False, max_features=8, n_estimators=13, score=0.646, total=   0.0s\n",
      "[CV] bootstrap=False, max_features=8, n_estimators=21 ................\n",
      "[CV]  bootstrap=False, max_features=8, n_estimators=21, score=0.719, total=   0.1s\n",
      "[CV] bootstrap=False, max_features=8, n_estimators=21 ................\n",
      "[CV]  bootstrap=False, max_features=8, n_estimators=21, score=0.792, total=   0.1s\n",
      "[CV] bootstrap=False, max_features=8, n_estimators=21 ................\n",
      "[CV]  bootstrap=False, max_features=8, n_estimators=21, score=0.698, total=   0.1s\n",
      "[CV] bootstrap=False, max_features=8, n_estimators=21 ................\n",
      "[CV]  bootstrap=False, max_features=8, n_estimators=21, score=0.750, total=   0.1s\n",
      "[CV] bootstrap=False, max_features=8, n_estimators=21 ................\n",
      "[CV]  bootstrap=False, max_features=8, n_estimators=21, score=0.635, total=   0.1s\n"
     ]
    },
    {
     "name": "stderr",
     "output_type": "stream",
     "text": [
      "[Parallel(n_jobs=1)]: Done 240 out of 240 | elapsed:   18.1s finished\n"
     ]
    },
    {
     "data": {
      "text/plain": [
       "GridSearchCV(cv=5, estimator=RandomForestClassifier(random_state=42),\n",
       "             param_grid=[{'max_features': [2, 4, 6, 8],\n",
       "                          'n_estimators': [2, 3, 5, 8, 13, 21, 34, 56]},\n",
       "                         {'bootstrap': [False], 'max_features': [2, 4, 6, 8],\n",
       "                          'n_estimators': [5, 8, 13, 21]}],\n",
       "             verbose=3)"
      ]
     },
     "execution_count": 60,
     "metadata": {},
     "output_type": "execute_result"
    }
   ],
   "source": [
    "#Let's Fine-Tune Our Random Forest Model to see if there can be improvements made\n",
    "from sklearn.model_selection import GridSearchCV\n",
    "\n",
    "param_grid = [\n",
    "        #try 32 (8X4) combinations of hyperparameters\n",
    "        {'n_estimators': [2, 3, 5, 8, 13, 21, 34, 56], 'max_features': [2, 4, 6, 8]}, \n",
    "        #then try 16 (4x4) combinations with bottstrap set as False\n",
    "        {'bootstrap': [False], 'n_estimators': [5, 8, 13, 21], 'max_features':[2, 4, 6, 8]}    \n",
    "              ]\n",
    "rf_classifier = RandomForestClassifier(random_state=42)\n",
    "\n",
    "#train across 5 folds, that's a total of (32+16)*5=240 rounds of training\n",
    "rf_grid_search = GridSearchCV(rf_classifier, param_grid, cv=5, verbose=3)\n",
    "\n",
    "rf_grid_search.fit(X_train, y_train_diabetic)"
   ]
  },
  {
   "cell_type": "code",
   "execution_count": 61,
   "metadata": {},
   "outputs": [
    {
     "name": "stdout",
     "output_type": "stream",
     "text": [
      "The best hyperparameters for our Decision Tree Model is: {'criterion': 'gini', 'max_depth': 6, 'max_leaf_nodes': 19, 'min_samples_split': 2}\n",
      "The best score for our Decision Tree Model is: 0.7687499999999999\n",
      "The best hyperparameters for our KNN Model is: {'metric': 'euclidean', 'n_neighbors': 12, 'weights': 'uniform'}\n",
      "The best score for our KNN Model is: 0.7645833333333334\n",
      "The best hyperparameters for our Stochastic Gradient Descent Model is: {'penalty': 'l2', 'loss': 'squared_hinge', 'learning_rate': 'optimal', 'eta0': 1, 'alpha': 0.1}\n",
      "The best score for our Stochastic Gradient Descent Model is: 0.7645833333333333\n",
      "The best hyperparameters for our Random Forest Model is: {'max_features': 2, 'n_estimators': 8}\n",
      "The best score for our Random Forest Model is: 0.76875\n",
      "The best hyperparameters for our SVC Model is: {'C': 1000, 'gamma': 0.001, 'kernel': 'rbf'}\n",
      "The best score for our SVC Model is: 0.775\n"
     ]
    }
   ],
   "source": [
    "print('The best hyperparameters for our Decision Tree Model is:', dt_grid_search.best_params_)\n",
    "print('The best score for our Decision Tree Model is:', dt_grid_search.best_score_)\n",
    "print('The best hyperparameters for our KNN Model is:', knn_grid_search.best_params_)\n",
    "print('The best score for our KNN Model is:', knn_grid_search.best_score_)\n",
    "print('The best hyperparameters for our Stochastic Gradient Descent Model is:', sgd_grid_search.best_params_)\n",
    "print('The best score for our Stochastic Gradient Descent Model is:', sgd_grid_search.best_score_)\n",
    "print('The best hyperparameters for our Random Forest Model is:', rf_grid_search.best_params_)\n",
    "print('The best score for our Random Forest Model is:', rf_grid_search.best_score_)\n",
    "print('The best hyperparameters for our SVC Model is:', svc_grid_search.best_params_)\n",
    "print('The best score for our SVC Model is:', svc_grid_search.best_score_)"
   ]
  },
  {
   "cell_type": "code",
   "execution_count": 115,
   "metadata": {},
   "outputs": [],
   "source": [
    "#Let's summarise the accuracy of our fine-tuned models \n",
    "sgd_fine_tuned = SGDClassifier(**sgd_grid_search.best_params_)\n",
    "knn_fine_tuned = KNeighborsClassifier(**knn_grid_search.best_params_)\n",
    "dt_fine_tuned = DecisionTreeClassifier(**dt_grid_search.best_params_)\n",
    "rf_fine_tuned = RandomForestClassifier(**rf_grid_search.best_params_)\n",
    "svc_fine_tuned = SVC(**svc_grid_search.best_params_)"
   ]
  },
  {
   "cell_type": "code",
   "execution_count": 116,
   "metadata": {},
   "outputs": [
    {
     "data": {
      "text/html": [
       "<div>\n",
       "<style scoped>\n",
       "    .dataframe tbody tr th:only-of-type {\n",
       "        vertical-align: middle;\n",
       "    }\n",
       "\n",
       "    .dataframe tbody tr th {\n",
       "        vertical-align: top;\n",
       "    }\n",
       "\n",
       "    .dataframe thead th {\n",
       "        text-align: right;\n",
       "    }\n",
       "</style>\n",
       "<table border=\"1\" class=\"dataframe\">\n",
       "  <thead>\n",
       "    <tr style=\"text-align: right;\">\n",
       "      <th></th>\n",
       "      <th>Accuracy</th>\n",
       "    </tr>\n",
       "  </thead>\n",
       "  <tbody>\n",
       "    <tr>\n",
       "      <th>Fine-Tuned SGD</th>\n",
       "      <td>0.710744</td>\n",
       "    </tr>\n",
       "    <tr>\n",
       "      <th>Fine-Tuned SVC</th>\n",
       "      <td>0.694215</td>\n",
       "    </tr>\n",
       "    <tr>\n",
       "      <th>Fine-Tuned Random Forest</th>\n",
       "      <td>0.669421</td>\n",
       "    </tr>\n",
       "    <tr>\n",
       "      <th>Fine-Tuned Decision Tree</th>\n",
       "      <td>0.652893</td>\n",
       "    </tr>\n",
       "    <tr>\n",
       "      <th>Fine-Tuned KNN</th>\n",
       "      <td>0.652893</td>\n",
       "    </tr>\n",
       "  </tbody>\n",
       "</table>\n",
       "</div>"
      ],
      "text/plain": [
       "                          Accuracy\n",
       "Fine-Tuned SGD            0.710744\n",
       "Fine-Tuned SVC            0.694215\n",
       "Fine-Tuned Random Forest  0.669421\n",
       "Fine-Tuned Decision Tree  0.652893\n",
       "Fine-Tuned KNN            0.652893"
      ]
     },
     "execution_count": 116,
     "metadata": {},
     "output_type": "execute_result"
    }
   ],
   "source": [
    "#To Summarise For Our Fine-Tuned Models\n",
    "results=[]\n",
    "classifiers=['Fine-Tuned SGD', 'Fine-Tuned Decision Tree','Fine-Tuned KNN','Fine-Tuned SVC','Fine-Tuned Random Forest']\n",
    "models=[sgd_fine_tuned,dt_fine_tuned,knn_fine_tuned,svc_fine_tuned,rf_fine_tuned]\n",
    "for m in models:\n",
    "    model = m\n",
    "    model.fit(X_train,y_train_diabetic)\n",
    "    prediction=model.predict(X_test)\n",
    "    results.append(accuracy_score(y_test_diabetic,prediction))\n",
    "results_df=pd.DataFrame(data=results,index=classifiers)   \n",
    "results_df.columns=['Accuracy']\n",
    "results_df.sort_values(by='Accuracy',ascending=False)"
   ]
  },
  {
   "cell_type": "code",
   "execution_count": 64,
   "metadata": {},
   "outputs": [
    {
     "data": {
      "text/html": [
       "<div>\n",
       "<style scoped>\n",
       "    .dataframe tbody tr th:only-of-type {\n",
       "        vertical-align: middle;\n",
       "    }\n",
       "\n",
       "    .dataframe tbody tr th {\n",
       "        vertical-align: top;\n",
       "    }\n",
       "\n",
       "    .dataframe thead th {\n",
       "        text-align: right;\n",
       "    }\n",
       "</style>\n",
       "<table border=\"1\" class=\"dataframe\">\n",
       "  <thead>\n",
       "    <tr style=\"text-align: right;\">\n",
       "      <th></th>\n",
       "      <th>CV Mean</th>\n",
       "    </tr>\n",
       "  </thead>\n",
       "  <tbody>\n",
       "    <tr>\n",
       "      <th>Fine-Tuned SVC</th>\n",
       "      <td>0.775000</td>\n",
       "    </tr>\n",
       "    <tr>\n",
       "      <th>Logistic Regression</th>\n",
       "      <td>0.775000</td>\n",
       "    </tr>\n",
       "    <tr>\n",
       "      <th>Fine-Tuned SGD</th>\n",
       "      <td>0.770833</td>\n",
       "    </tr>\n",
       "    <tr>\n",
       "      <th>Fine-Tuned KNN</th>\n",
       "      <td>0.745833</td>\n",
       "    </tr>\n",
       "    <tr>\n",
       "      <th>Fine-Tuned Random Forest</th>\n",
       "      <td>0.741667</td>\n",
       "    </tr>\n",
       "    <tr>\n",
       "      <th>Fine-Tuned Decision Tree</th>\n",
       "      <td>0.714583</td>\n",
       "    </tr>\n",
       "  </tbody>\n",
       "</table>\n",
       "</div>"
      ],
      "text/plain": [
       "                           CV Mean\n",
       "Fine-Tuned SVC            0.775000\n",
       "Logistic Regression       0.775000\n",
       "Fine-Tuned SGD            0.770833\n",
       "Fine-Tuned KNN            0.745833\n",
       "Fine-Tuned Random Forest  0.741667\n",
       "Fine-Tuned Decision Tree  0.714583"
      ]
     },
     "execution_count": 64,
     "metadata": {},
     "output_type": "execute_result"
    }
   ],
   "source": [
    "# Let's try out some Cross Validation and see if we can make any improvements\n",
    "#So we use Cross Validation to  train and test our algorithm on each and every instance of the dataset.\n",
    "from sklearn.model_selection import KFold \n",
    "from sklearn.model_selection import cross_val_score\n",
    "kfold = KFold(n_splits=10)\n",
    "results=[]\n",
    "accuracy=[]\n",
    "classifiers=['Fine-Tuned SGD', 'Fine-Tuned Decision Tree','Fine-Tuned KNN','Fine-Tuned SVC','Fine-Tuned Random Forest', 'Logistic Regression']\n",
    "models=[sgd_fine_tuned,dt_fine_tuned,knn_fine_tuned,svc_fine_tuned,rf_fine_tuned, logreg_classifier]\n",
    "for m in models:\n",
    "    model = m\n",
    "    cv_result = cross_val_score(model,X_train,y_train, cv = kfold,scoring = \"accuracy\")\n",
    "    cv_results=cv_result\n",
    "    results.append(cv_results.mean())\n",
    "    accuracy.append(cv_results)\n",
    "cv_results_df=pd.DataFrame(results,index=classifiers)   \n",
    "cv_results_df.columns=['CV Mean']    \n",
    "cv_results_df.sort_values(by='CV Mean',ascending=False)\n",
    "#Fine Tuned SVC is the best\n"
   ]
  },
  {
   "cell_type": "code",
   "execution_count": 65,
   "metadata": {},
   "outputs": [
    {
     "data": {
      "text/plain": [
       "Glucose                     0.241826\n",
       "BMI                         0.158179\n",
       "DiabetesPedigreeFunction    0.139445\n",
       "Age                         0.136653\n",
       "Pregnancies                 0.093305\n",
       "BloodPressure               0.091335\n",
       "Insulin                     0.078613\n",
       "SkinThickness               0.060645\n",
       "dtype: float64"
      ]
     },
     "execution_count": 65,
     "metadata": {},
     "output_type": "execute_result"
    }
   ],
   "source": [
    "#let's Use Feature Importance to Select Only the most Important Features\n",
    "#Random Forrest highlights the most important features\n",
    "from sklearn.ensemble import RandomForestClassifier \n",
    "rf= RandomForestClassifier(random_state=42)\n",
    "X= X_train\n",
    "y=y_train\n",
    "rf.fit(X,y)\n",
    "pd.Series(rf.feature_importances_,index=X.columns).sort_values(ascending=False)\n",
    "#Glucose, BMI, Age ,and DPF are the most important"
   ]
  },
  {
   "cell_type": "code",
   "execution_count": 66,
   "metadata": {},
   "outputs": [],
   "source": [
    "top_features = X_train[['Glucose', 'BMI', 'DiabetesPedigreeFunction', 'Age']]"
   ]
  },
  {
   "cell_type": "code",
   "execution_count": 67,
   "metadata": {},
   "outputs": [
    {
     "data": {
      "text/html": [
       "<div>\n",
       "<style scoped>\n",
       "    .dataframe tbody tr th:only-of-type {\n",
       "        vertical-align: middle;\n",
       "    }\n",
       "\n",
       "    .dataframe tbody tr th {\n",
       "        vertical-align: top;\n",
       "    }\n",
       "\n",
       "    .dataframe thead th {\n",
       "        text-align: right;\n",
       "    }\n",
       "</style>\n",
       "<table border=\"1\" class=\"dataframe\">\n",
       "  <thead>\n",
       "    <tr style=\"text-align: right;\">\n",
       "      <th></th>\n",
       "      <th>CV Mean</th>\n",
       "    </tr>\n",
       "  </thead>\n",
       "  <tbody>\n",
       "    <tr>\n",
       "      <th>Fine-Tuned SGD</th>\n",
       "      <td>0.779167</td>\n",
       "    </tr>\n",
       "    <tr>\n",
       "      <th>Logistic Regression</th>\n",
       "      <td>0.777083</td>\n",
       "    </tr>\n",
       "    <tr>\n",
       "      <th>Fine-Tuned SVC</th>\n",
       "      <td>0.764583</td>\n",
       "    </tr>\n",
       "    <tr>\n",
       "      <th>Fine-Tuned KNN</th>\n",
       "      <td>0.762500</td>\n",
       "    </tr>\n",
       "    <tr>\n",
       "      <th>Fine-Tuned Random Forest</th>\n",
       "      <td>0.743750</td>\n",
       "    </tr>\n",
       "    <tr>\n",
       "      <th>Fine-Tuned Decision Tree</th>\n",
       "      <td>0.714583</td>\n",
       "    </tr>\n",
       "  </tbody>\n",
       "</table>\n",
       "</div>"
      ],
      "text/plain": [
       "                           CV Mean\n",
       "Fine-Tuned SGD            0.779167\n",
       "Logistic Regression       0.777083\n",
       "Fine-Tuned SVC            0.764583\n",
       "Fine-Tuned KNN            0.762500\n",
       "Fine-Tuned Random Forest  0.743750\n",
       "Fine-Tuned Decision Tree  0.714583"
      ]
     },
     "execution_count": 67,
     "metadata": {},
     "output_type": "execute_result"
    }
   ],
   "source": [
    "# Let's try out some Cross Validation on only the top features\n",
    "from sklearn.model_selection import KFold \n",
    "from sklearn.model_selection import cross_val_score\n",
    "kfold = KFold(n_splits=10)\n",
    "results=[]\n",
    "accuracy=[]\n",
    "classifiers=['Fine-Tuned SGD', 'Fine-Tuned Decision Tree','Fine-Tuned KNN','Fine-Tuned SVC','Fine-Tuned Random Forest', 'Logistic Regression']\n",
    "models=[sgd_fine_tuned,dt_fine_tuned,knn_fine_tuned,svc_fine_tuned,rf_fine_tuned, logreg_classifier]\n",
    "for m in models:\n",
    "    model = m\n",
    "    cv_result = cross_val_score(model,top_features,y_train, cv = kfold,scoring = \"accuracy\")\n",
    "    cv_results=cv_result\n",
    "    results.append(cv_results.mean())\n",
    "    accuracy.append(cv_results)\n",
    "cv_results_df=pd.DataFrame(results,index=classifiers)   \n",
    "cv_results_df.columns=['CV Mean']    \n",
    "cv_results_df.sort_values(by='CV Mean',ascending=False)\n",
    "#SGD fine-tuned is the best"
   ]
  },
  {
   "cell_type": "code",
   "execution_count": 68,
   "metadata": {},
   "outputs": [
    {
     "data": {
      "image/png": "[encoded data removed]",
      "text/plain": [
       "<Figure size 432x288 with 1 Axes>"
      ]
     },
     "metadata": {
      "needs_background": "light"
     },
     "output_type": "display_data"
    }
   ],
   "source": [
    "#plot this\n",
    "classifiers=['SGD', 'DT','KNN','SVC','RandFor', 'LogReg']\n",
    "boxplot = plt.figure()\n",
    "boxplot.suptitle('Model Performance Comparison')\n",
    "ax = boxplot.add_subplot(111)\n",
    "plt.boxplot(accuracy)\n",
    "ax.set_xticklabels(classifiers)\n",
    "plt.show()\n"
   ]
  },
  {
   "cell_type": "code",
   "execution_count": 95,
   "metadata": {},
   "outputs": [],
   "source": [
    "#So it seems like fine-tuned SGD is ultimately is the best for this binary classification problem.\n",
    "# Let's take a better look at evaluating the performance of this classifier by looking at the confusion matrix. \n",
    "\n",
    "\n",
    "from sklearn.model_selection import cross_val_predict\n",
    "y_train_predictions = cross_val_predict(sgd_fine_tuned, top_features, y_train_diabetic, cv=3)"
   ]
  },
  {
   "cell_type": "code",
   "execution_count": 96,
   "metadata": {},
   "outputs": [
    {
     "data": {
      "text/plain": [
       "array([[284,  34],\n",
       "       [ 72,  90]])"
      ]
     },
     "execution_count": 96,
     "metadata": {},
     "output_type": "execute_result"
    }
   ],
   "source": [
    "from sklearn.metrics import confusion_matrix\n",
    "confusion_matrix(y_train_diabetic, y_train_predictions)"
   ]
  },
  {
   "cell_type": "code",
   "execution_count": 97,
   "metadata": {},
   "outputs": [
    {
     "data": {
      "text/plain": [
       "<AxesSubplot:>"
      ]
     },
     "execution_count": 97,
     "metadata": {},
     "output_type": "execute_result"
    },
    {
     "data": {
      "image/png": "[encoded data removed]",
      "text/plain": [
       "<Figure size 432x288 with 2 Axes>"
      ]
     },
     "metadata": {
      "needs_background": "light"
     },
     "output_type": "display_data"
    }
   ],
   "source": [
    "#Let's visualise this confusion matrix a bit better through a heatmap\n",
    "import seaborn as sns\n",
    "\n",
    "conf_matrix =confusion_matrix(y_train_diabetic, y_train_predictions)\n",
    "label= ['Negative Cases', 'Positive Cases']\n",
    "sns.heatmap(conf_matrix, annot=True, xticklabels=label, yticklabels=label, fmt='.3g')"
   ]
  },
  {
   "cell_type": "code",
   "execution_count": 99,
   "metadata": {},
   "outputs": [],
   "source": [
    "#Scikit-Learn provides several functions to compute classifier metrics, including precision and recall:\n",
    "\n",
    "from sklearn.metrics import precision_score, recall_score"
   ]
  },
  {
   "cell_type": "code",
   "execution_count": 100,
   "metadata": {},
   "outputs": [
    {
     "data": {
      "text/plain": [
       "0.7258064516129032"
      ]
     },
     "execution_count": 100,
     "metadata": {},
     "output_type": "execute_result"
    }
   ],
   "source": [
    "#Precision \n",
    "precision_score(y_train_diabetic, y_train_predictions) # == 90 / (90 + 35) == 0.725"
   ]
  },
  {
   "cell_type": "code",
   "execution_count": 101,
   "metadata": {},
   "outputs": [
    {
     "data": {
      "text/plain": [
       "0.5555555555555556"
      ]
     },
     "execution_count": 101,
     "metadata": {},
     "output_type": "execute_result"
    }
   ],
   "source": [
    "#Recall\n",
    "recall_score(y_train_diabetic, y_train_predictions) # == 90 / (90 + 72) == 0.555"
   ]
  },
  {
   "cell_type": "code",
   "execution_count": 104,
   "metadata": {},
   "outputs": [
    {
     "data": {
      "text/plain": [
       "0.6293706293706294"
      ]
     },
     "execution_count": 104,
     "metadata": {},
     "output_type": "execute_result"
    }
   ],
   "source": [
    "# F1 Score\n",
    "from sklearn.metrics import f1_score\n",
    "\n",
    "f1_score(y_train_diabetic, y_train_predictions)"
   ]
  },
  {
   "cell_type": "code",
   "execution_count": 137,
   "metadata": {},
   "outputs": [
    {
     "data": {
      "text/plain": [
       "array([0.73883425])"
      ]
     },
     "execution_count": 137,
     "metadata": {},
     "output_type": "execute_result"
    }
   ],
   "source": [
    "some_case = X_train.loc[53] #select a random outcome \n",
    "\n",
    "y_decision_scores = sgd_fine_tuned.decision_function([some_case])\n",
    "y_decision_scores"
   ]
  },
  {
   "cell_type": "code",
   "execution_count": 138,
   "metadata": {},
   "outputs": [],
   "source": [
    "threshold = 0\n",
    "y_some_case_prediction = (y_decision_scores > threshold)"
   ]
  },
  {
   "cell_type": "code",
   "execution_count": 139,
   "metadata": {},
   "outputs": [
    {
     "data": {
      "text/plain": [
       "array([ True])"
      ]
     },
     "execution_count": 139,
     "metadata": {},
     "output_type": "execute_result"
    }
   ],
   "source": [
    "y_some_case_prediction #predicts that from this case, the outcome should be True (i.e. 1)"
   ]
  },
  {
   "cell_type": "code",
   "execution_count": 141,
   "metadata": {},
   "outputs": [
    {
     "data": {
      "text/plain": [
       "1"
      ]
     },
     "execution_count": 141,
     "metadata": {},
     "output_type": "execute_result"
    }
   ],
   "source": [
    "y_train.loc[53] #it's correct! "
   ]
  },
  {
   "cell_type": "code",
   "execution_count": 145,
   "metadata": {},
   "outputs": [],
   "source": [
    "#The SGDClassifier uses a threshold equal to 0, so the previous code returns\n",
    "#the same result as the predict() method (i.e. [True)]. \n",
    "#Let's raise the threshold:\n",
    "threshold = 1000\n",
    "y_some_case_prediction = (y_decision_scores > threshold)"
   ]
  },
  {
   "cell_type": "code",
   "execution_count": 146,
   "metadata": {},
   "outputs": [
    {
     "data": {
      "text/plain": [
       "array([False])"
      ]
     },
     "execution_count": 146,
     "metadata": {},
     "output_type": "execute_result"
    }
   ],
   "source": [
    "y_some_case_prediction"
   ]
  },
  {
   "cell_type": "code",
   "execution_count": 147,
   "metadata": {},
   "outputs": [
    {
     "data": {
      "text/plain": [
       "array([-0.9754194 , -0.23837028, -0.8452436 ,  0.18144547, -0.45747111,\n",
       "       -0.58552681, -0.96154652,  1.13376494, -0.03236075,  0.67026201,\n",
       "       -0.78896305, -0.38473086,  0.17359373, -0.26730632, -0.64597783,\n",
       "       -0.72644804, -0.18876726, -1.07314309, -0.49870059, -0.33670332,\n",
       "       -0.28350467, -0.6500929 ,  0.15954401,  0.61712934, -0.07698427,\n",
       "       -1.91297182, -0.66644998, -0.58006995, -0.24669097, -0.63855564,\n",
       "        0.56255852, -0.00899477, -1.06289897, -0.49075806, -0.43564554,\n",
       "       -0.44151193, -0.54488271, -0.09964717,  0.68067336, -0.70457061,\n",
       "       -0.11013075, -0.26826033, -1.06335609,  0.111125  , -0.25594706,\n",
       "       -1.3237889 , -0.45802656, -0.52370244, -0.29435596,  0.35945215,\n",
       "       -0.34766372, -0.26821582,  0.6000046 ,  0.25106361,  0.44132012,\n",
       "        0.13745997, -0.29880917, -0.28881191, -0.59997275, -0.34708733,\n",
       "       -0.54717697,  0.08449467, -1.4640319 , -0.15945422, -0.09864248,\n",
       "       -0.81221433, -0.77417844,  0.14624162, -0.66518951, -0.40957092,\n",
       "       -0.45313531, -0.50059674, -1.00450425, -0.11695425,  0.65492097,\n",
       "       -0.08127098, -1.06742287,  0.27715888, -0.3475841 ,  0.11918611,\n",
       "       -0.60107974, -0.12125078, -0.70008715, -0.68198452, -0.1394928 ,\n",
       "       -0.24704597, -0.87184385, -0.68374102,  1.08116492, -0.11117519,\n",
       "        0.23442469, -0.31091225, -1.1346385 ,  0.56624608, -1.00938629,\n",
       "       -1.07615477, -0.3279944 , -0.00914046, -0.24090633, -1.0493136 ,\n",
       "        0.06322934,  0.39706181,  0.76713625, -1.09866118, -0.25402754,\n",
       "        0.30193706,  0.10824864,  0.4048817 , -0.43805656, -0.75178783,\n",
       "       -0.94455949, -0.60725647,  0.02325783, -0.6534033 , -0.35404622,\n",
       "       -0.82107056, -0.59111349,  0.04909298, -0.19551893,  0.15158484,\n",
       "        0.43560836,  0.09352018,  0.17406602, -0.55136795, -0.75960409,\n",
       "       -0.70550074,  0.5512293 , -0.72055088, -0.53256478, -0.66543628,\n",
       "       -0.04022838, -0.79911377, -0.97679123, -0.61466551,  0.51902378,\n",
       "       -0.54531043, -0.56292703, -0.62756839, -1.96122319,  0.73424487,\n",
       "       -2.21534338, -0.07033531, -0.54166564,  0.08358561,  0.2204531 ,\n",
       "        0.07897141,  0.29581301, -0.56336991, -0.63143969, -0.26779678,\n",
       "        0.12039164, -0.94908995, -0.64678111,  1.05654077,  0.50492663,\n",
       "       -0.91817905, -0.30858826,  0.02074981, -0.61169352, -0.14871479,\n",
       "       -0.20554617, -0.31440763, -0.6061998 , -0.66483   ,  0.73812109,\n",
       "       -0.44193025,  0.4545175 , -0.10604553,  0.18462639, -0.46187454,\n",
       "        0.48452961, -0.50690064, -0.45883716,  0.27719797, -0.33158751,\n",
       "       -0.92469975, -0.90017051, -0.6147456 , -0.33485271, -0.04128932,\n",
       "       -0.68205786,  0.83730421, -0.5922395 , -0.14874375, -0.30335631,\n",
       "       -0.30970309, -0.96393991, -0.99237889,  0.85934415, -0.15273035,\n",
       "       -0.86395838,  0.87349535,  0.52964722, -0.80938834, -0.27345933,\n",
       "       -0.47908955,  0.27435964,  0.08743199, -0.77307501,  0.19653252,\n",
       "       -0.43493251, -0.3561589 , -0.01949284, -0.01464728, -1.3870564 ,\n",
       "       -0.36006757, -0.70494977, -0.45393245, -0.93538094, -0.61444343,\n",
       "       -0.69752507,  1.24499424, -0.07321064, -0.21145133, -0.74364331,\n",
       "       -0.99035975, -0.58473272, -0.00555613,  0.05181075, -0.25198642,\n",
       "       -1.53582237, -0.75064421, -0.98964962, -0.38787704, -0.45127562,\n",
       "       -0.82647827, -0.95744826, -0.89642095, -0.99063936, -0.25041108,\n",
       "       -0.45027851, -0.59774165, -0.44997579, -1.13727482, -0.72936571,\n",
       "        0.49638998,  0.47739186, -0.25918472, -0.12872651, -0.00239832,\n",
       "       -1.09682794, -1.07574165, -1.04030893,  0.14374209, -0.35876857,\n",
       "        0.08569591, -0.40239467, -0.34060021, -1.27157895, -0.34441648,\n",
       "       -0.85091284, -0.48110587, -0.83077748,  0.01967238, -0.00316327,\n",
       "        0.1631971 , -0.09720019, -0.69976032, -1.2210752 , -0.08917316,\n",
       "        0.20239001, -1.20604965,  0.2398077 , -1.05178684, -0.89831195,\n",
       "       -0.04526706,  0.28754359,  0.37586659, -0.21953132, -0.29619284,\n",
       "       -0.81846883, -0.73739207, -0.6001029 , -0.92980717,  0.48166699,\n",
       "       -0.213006  , -0.6183962 , -0.18035014, -0.33188794, -1.00701655,\n",
       "        0.08655421, -1.53707125, -0.89244643, -0.09067949, -0.65413112,\n",
       "       -0.85575716,  0.36043436, -0.52761784, -0.98684568, -0.76921172,\n",
       "       -0.71302039, -0.59678043,  0.36140104, -0.65475278, -0.25296852,\n",
       "       -0.6856922 ,  0.47562856, -1.37673737, -0.82833109, -0.05390306,\n",
       "       -0.67233008, -0.25261372,  0.08628625, -0.79007939, -0.03896908,\n",
       "        0.49278937, -0.53885696, -0.22715746, -0.79457626, -0.43941162,\n",
       "       -0.42259635, -0.54851781, -0.40981125, -0.48860198, -0.752779  ,\n",
       "       -0.54639636,  0.03222043,  0.53190337, -0.20034634,  0.3042681 ,\n",
       "       -0.66888033, -1.2126723 ,  0.52117748, -0.32144069, -0.73296375,\n",
       "       -0.41749131,  0.0931213 ,  0.42226971, -1.09407071, -0.31548679,\n",
       "        0.36263584, -0.67231858, -0.73309977, -0.87066819,  0.1180169 ,\n",
       "        0.51930389,  0.74585885,  0.28731995,  0.48308016, -0.87930215,\n",
       "        0.23517924,  0.55764439, -0.41831477,  0.72917444,  0.35705298,\n",
       "        0.28616087, -1.29038667,  0.14162551,  0.5878618 , -1.46908694,\n",
       "       -1.03697773, -0.05540097, -0.26945593, -0.33367173, -1.03458229,\n",
       "       -0.29626447, -0.80349028, -0.92506254, -1.21520193, -0.83020879,\n",
       "        0.02076329, -0.45081851, -0.18660331, -0.18786738, -1.13202329,\n",
       "       -1.06624653,  0.36566881, -0.62054587, -0.84810715, -0.01595624,\n",
       "       -0.42260971, -0.62733143, -0.93244822, -1.11116541, -0.74181486,\n",
       "       -1.4709203 ,  0.71682138, -1.2470074 , -0.53664885, -0.74407602,\n",
       "       -0.38750007, -0.97800714, -0.55450277, -1.0180707 , -0.35229465,\n",
       "       -0.44756497,  0.04164783, -0.47814499,  1.19193802, -0.74334273,\n",
       "       -0.23686515,  0.63857447, -0.10385898, -0.78429271, -0.33970726,\n",
       "       -0.26720202, -0.34730543,  0.52162807, -0.01139052, -0.46458614,\n",
       "        0.37406797, -0.65332405, -0.90387435, -0.98475535, -0.05012265,\n",
       "       -0.96222195, -0.90942818, -0.46259645, -1.02218033, -1.28063407,\n",
       "        0.18689196, -0.20495985, -0.73956312, -1.10729388, -0.66897784,\n",
       "       -0.70481721, -0.99629662, -0.52715463, -0.5973836 , -0.18433167,\n",
       "       -0.80520128, -0.94365988, -0.99463615, -0.51658215,  0.19055086,\n",
       "       -0.24545699, -0.85131443, -0.67063986,  0.74331506, -0.63405115,\n",
       "       -1.07750289, -0.18197971, -0.91533176,  0.00853896,  0.06749502,\n",
       "       -0.16860408, -0.11729378, -0.79704955, -1.12847079, -0.01098306,\n",
       "       -0.22378563, -0.29009604, -0.76733937,  0.27152954, -0.23348938,\n",
       "        0.07164808,  0.51000158, -0.64725272, -0.61540166, -0.51927439,\n",
       "        0.19154489,  0.50379303, -0.35814811,  0.14412073,  0.64128699,\n",
       "       -0.41353843,  0.12747031, -0.43604172, -1.15991642, -0.81473107,\n",
       "       -0.58329631, -0.6072756 , -0.99765495, -0.11844206, -0.43577573,\n",
       "       -0.22479403, -0.83175841, -1.08402594, -0.01299939, -0.95144369,\n",
       "       -0.7228219 ,  0.24346817, -0.28517459, -0.22523035,  0.41725132,\n",
       "        0.21038295,  0.29135426, -0.12882288, -0.73099562, -0.47347411])"
      ]
     },
     "execution_count": 147,
     "metadata": {},
     "output_type": "execute_result"
    }
   ],
   "source": [
    "#Let's figure out what threshold to choose\n",
    "\n",
    "#First, use the cross_val_predict() function to get the scores of all instances\n",
    "#in the training set, but this time specify that you want to return decision scores\n",
    "#instead of predictions:\n",
    "\n",
    "y_decision_scores = cross_val_predict(sgd_fine_tuned, X_train, y_train_diabetic, cv=5, method=\"decision_function\")\n",
    "y_decision_scores"
   ]
  },
  {
   "cell_type": "code",
   "execution_count": 148,
   "metadata": {},
   "outputs": [],
   "source": [
    "#With these scores, use the \"precision_recall_curve()\" function to compute precision and recall\n",
    "#for all possible thresholds:\n",
    "from sklearn.metrics import precision_recall_curve\n",
    "\n",
    "precisions, recalls, thresholds = precision_recall_curve(y_train_diabetic, y_decision_scores)"
   ]
  },
  {
   "cell_type": "code",
   "execution_count": 182,
   "metadata": {},
   "outputs": [
    {
     "data": {
      "image/png": "[encoded data removed]",
      "text/plain": [
       "<Figure size 576x288 with 1 Axes>"
      ]
     },
     "metadata": {
      "needs_background": "light"
     },
     "output_type": "display_data"
    }
   ],
   "source": [
    "#Finally, use Matplotlib to plot precision and recall as functions of the threshold value: (focus on precision)\n",
    "def plot_precision_recall_vs_threshold(precisions, recalls, thresholds):\n",
    "    plt.plot(thresholds, precisions[:-1], \"b--\", label=\"Precision\", linewidth=2)\n",
    "    plt.plot(thresholds, recalls[:-1], \"g-\", label=\"Recall\", linewidth=2)\n",
    "    plt.legend(loc=\"center right\", fontsize=16)\n",
    "    plt.xlabel(\"Threshold\", fontsize=16)\n",
    "    plt.grid(True)\n",
    "    plt.axis([-1, 1, 0, 1])\n",
    "\n",
    "recall_90_precision = recalls[np.argmax(precisions >= 0.80)]\n",
    "threshold_90_precision = thresholds[np.argmax(precisions >= 0.80)]\n",
    "\n",
    "plt.figure(figsize=(8,4))\n",
    "\n",
    "plot_precision_recall_vs_threshold(precisions, recalls, thresholds)\n",
    "plt.plot([threshold_90_precision, threshold_90_precision], [0, 0.8], \"r:\")\n",
    "plt.plot([-1, threshold_90_precision], [0.8, 0.8],\"r:\")\n",
    "plt.plot([-1, threshold_90_precision], [recall_90_precision, recall_90_precision], \"r:\")\n",
    "plt.plot([threshold_90_precision], [0.8], \"ro\")\n",
    "plt.plot([threshold_90_precision], [recall_90_precision], \"ro\")\n",
    "plt.show()"
   ]
  },
  {
   "cell_type": "code",
   "execution_count": 269,
   "metadata": {},
   "outputs": [
    {
     "data": {
      "image/png": "[encoded data removed]",
      "text/plain": [
       "<Figure size 576x288 with 1 Axes>"
      ]
     },
     "metadata": {
      "needs_background": "light"
     },
     "output_type": "display_data"
    }
   ],
   "source": [
    "#Finally, use Matplotlib to plot precision and recall as functions of the threshold value: (focus on Recall)\n",
    "def plot_precision_recall_vs_threshold(precisions, recalls, thresholds):\n",
    "    plt.plot(thresholds, precisions[:-1], \"b--\", label=\"Precision\", linewidth=2)\n",
    "    plt.plot(thresholds, recalls[:-1], \"g-\", label=\"Recall\", linewidth=2)\n",
    "    plt.legend(loc=\"center right\", fontsize=16)\n",
    "    plt.xlabel(\"Threshold\", fontsize=16)\n",
    "    plt.grid(True)\n",
    "    plt.axis([-1, 1, 0, 1])\n",
    "\n",
    "recall_90_precision = precisions[np.argmin(recalls >= 0.95)]\n",
    "threshold_90_precision = thresholds[np.argmin(recalls >= 0.95)]\n",
    "\n",
    "plt.figure(figsize=(8,4))\n",
    "\n",
    "plot_precision_recall_vs_threshold(precisions, recalls, thresholds)\n",
    "plt.plot([threshold_90_precision, threshold_90_precision], [0, 0.95], \"r:\")\n",
    "plt.plot([-1, threshold_90_precision], [0.95, 0.95],\"r:\")\n",
    "plt.plot([-1, threshold_90_precision], [recall_90_precision, recall_90_precision], \"r:\")\n",
    "plt.plot([threshold_90_precision], [0.95], \"ro\")\n",
    "plt.plot([threshold_90_precision], [recall_90_precision], \"ro\")\n",
    "plt.show()"
   ]
  },
  {
   "cell_type": "code",
   "execution_count": 312,
   "metadata": {},
   "outputs": [
    {
     "data": {
      "image/png": "[encoded data removed]",
      "text/plain": [
       "<Figure size 576x432 with 1 Axes>"
      ]
     },
     "metadata": {
      "needs_background": "light"
     },
     "output_type": "display_data"
    }
   ],
   "source": [
    "#Another way to select a good precision/recall trade-off is to plot precision directly against recall\n",
    "def plot_precision_vs_recall(precisions, recalls):\n",
    "    plt.plot(recalls, precisions, \"b-\", linewidth=2)\n",
    "    plt.xlabel(\"Recalls\", fontsize=16)\n",
    "    plt.ylabel(\"Precisions\", fontsize=16)\n",
    "    plt.axis([0,1,0,1])\n",
    "    plt.grid(True)\n",
    "    \n",
    "\n",
    "recall_90_precision = precisions[np.argmin(recalls >= 0.95)]\n",
    "\n",
    "plt.figure(figsize=(8,6))\n",
    "plot_precision_vs_recall(precisions, recalls)\n",
    "plt.plot([0.95, 0.95], [0,recall_90_precision], \"r:\")\n",
    "plt.plot([0.0, 0.95], [recall_90_precision, recall_90_precision], \"r:\")\n",
    "plt.plot([0.95],[recall_90_precision],  \"ro\")\n",
    "plt.show()"
   ]
  },
  {
   "cell_type": "code",
   "execution_count": 318,
   "metadata": {},
   "outputs": [],
   "source": [
    "#You can see that precision starts to fall gradually around 30% recall. \n",
    "#As we are looking to maximise our recall, we are happy with around a 45% precision in exchange for a 95% recall. \n",
    "#So to look into it more precisely, lets look at what the threshold and precision will be for a recall of 95%:"
   ]
  },
  {
   "cell_type": "code",
   "execution_count": 313,
   "metadata": {},
   "outputs": [],
   "source": [
    "threshold_95_recall = thresholds[np.argmin(recalls >= 0.95)]"
   ]
  },
  {
   "cell_type": "code",
   "execution_count": 314,
   "metadata": {},
   "outputs": [
    {
     "data": {
      "text/plain": [
       "-0.7130203934761752"
      ]
     },
     "execution_count": 314,
     "metadata": {},
     "output_type": "execute_result"
    }
   ],
   "source": [
    "threshold_95_recall"
   ]
  },
  {
   "cell_type": "code",
   "execution_count": 315,
   "metadata": {},
   "outputs": [],
   "source": [
    "y_train_predictions_95 = (y_decision_scores >= threshold_95_recall)\n"
   ]
  },
  {
   "cell_type": "code",
   "execution_count": 317,
   "metadata": {},
   "outputs": [
    {
     "data": {
      "text/plain": [
       "0.4358974358974359"
      ]
     },
     "execution_count": 317,
     "metadata": {},
     "output_type": "execute_result"
    }
   ],
   "source": [
    "precision_score(y_train_diabetic, y_train_predictions_95)"
   ]
  },
  {
   "cell_type": "code",
   "execution_count": 316,
   "metadata": {},
   "outputs": [
    {
     "data": {
      "text/plain": [
       "0.9444444444444444"
      ]
     },
     "execution_count": 316,
     "metadata": {},
     "output_type": "execute_result"
    }
   ],
   "source": [
    "recall_score(y_train_diabetic, y_train_predictions_95)"
   ]
  },
  {
   "cell_type": "code",
   "execution_count": 323,
   "metadata": {},
   "outputs": [],
   "source": [
    "#Lets plot the ROC Curve\n",
    "from sklearn.metrics import roc_curve\n",
    "\n",
    "false_positive_rate, true_positive_rate, thresholds = roc_curve(y_train_diabetic, y_decision_scores)"
   ]
  },
  {
   "cell_type": "code",
   "execution_count": 389,
   "metadata": {},
   "outputs": [
    {
     "data": {
      "image/png": "[encoded data removed]",
      "text/plain": [
       "<Figure size 576x432 with 1 Axes>"
      ]
     },
     "metadata": {
      "needs_background": "light"
     },
     "output_type": "display_data"
    }
   ],
   "source": [
    "def plot_roc_curve(false_positive_rate, true_positive_rate, label=None):\n",
    "    plt.plot(false_positive_rate, true_positive_rate, linewidth=2, label=label)\n",
    "    plt.plot([0,1], [0,1], \"k--\") \n",
    "    plt.axis([0,1,0,1])\n",
    "    plt.xlabel('False Positive Rate (Fall-Out)', fontsize=16)\n",
    "    plt.ylabel('True Positive Rate (Recall)', fontsize=16)\n",
    "    plt.grid(True)\n",
    "    \n",
    "plt.figure(figsize=(8,6))\n",
    "plot_roc_curve(false_positive_rate, true_positive_rate)\n",
    "tpr_90 = true_positive_rate[np.argmax(false_positive_rate >= recall_90_precision)]\n",
    "plt.plot([0., recall_90_precision],[tpr_90, tpr_90] , \"r:\")   \n",
    "plt.plot([recall_90_precision, recall_90_precision],[0.0, tpr_90], \"r:\")  \n",
    "plt.plot([recall_90_precision], [tpr_90], \"ro\")               \n",
    "plt.show()"
   ]
  },
  {
   "cell_type": "code",
   "execution_count": 390,
   "metadata": {},
   "outputs": [
    {
     "data": {
      "text/plain": [
       "0.8256075782281233"
      ]
     },
     "execution_count": 390,
     "metadata": {},
     "output_type": "execute_result"
    }
   ],
   "source": [
    "#Scikit-Learn provices a function to compute the ROC AUC:\n",
    "from sklearn.metrics import roc_auc_score\n",
    "\n",
    "roc_auc_score(y_train_diabetic, y_decision_scores)"
   ]
  },
  {
   "cell_type": "code",
   "execution_count": 507,
   "metadata": {},
   "outputs": [],
   "source": [
    "#Let's now train a LogisticRegression and compare its ROC curve and ROC AUC score to those of the \n",
    "#SGDClassifier.\n",
    "\n",
    "logreg_classifier = LogisticRegression(max_iter=1000)\n",
    "\n",
    "y_probability_logreg = cross_val_predict(logreg_classifier, top_features, y_train_diabetic,\n",
    "                                         cv=6, method=\"predict_proba\")\n"
   ]
  },
  {
   "cell_type": "code",
   "execution_count": 430,
   "metadata": {},
   "outputs": [],
   "source": [
    "#Let's use the positive class's probability as the score:\n",
    "y_decision_scores_logreg = y_probability_logreg[:,1]   \n",
    "\n",
    "fpr_logreg, tpr_logreg, thresholds_logreg = roc_curve(y_train_diabetic, y_decision_scores_logreg)"
   ]
  },
  {
   "cell_type": "code",
   "execution_count": 541,
   "metadata": {},
   "outputs": [
    {
     "data": {
      "image/png": "[encoded data removed]",
      "text/plain": [
       "<Figure size 576x432 with 1 Axes>"
      ]
     },
     "metadata": {
      "needs_background": "light"
     },
     "output_type": "display_data"
    }
   ],
   "source": [
    "#Let's plot bother ROC curves plot to see how they compare:\n",
    "recall_for_logreg = tpr_logreg[np.argmax(fpr_logreg >= fpr_90)]\n",
    "\n",
    "plt.figure(figsize=(8,6))\n",
    "plot_roc_curve(false_positive_rate,true_positive_rate, label=\"Fine-Tuned SGD\")\n",
    "plot_roc_curve(fpr_logreg, tpr_logreg, label=\"Logistic Regression\")\n",
    "plt.plot([0, recall_90_precision], [tpr_90, tpr_90 ], \"r:\")\n",
    "plt.plot([recall_90_precision, recall_90_precision], [0, tpr_90],\"r:\")\n",
    "plt.plot([recall_90_precision],[tpr_90], \"ro\")\n",
    "plt.plot([0, recall_for_logreg], [0.9, 0.9 ], \"g-\")\n",
    "plt.plot([recall_for_logreg], [tpr_90], \"go\")\n",
    "plt.plot([recall_for_logreg, recall_for_logreg], [0, tpr_90],\"g:\")\n",
    "plt.legend(loc=\"lower right\", fontsize=16)\n",
    "plt.show()"
   ]
  },
  {
   "cell_type": "code",
   "execution_count": 503,
   "metadata": {},
   "outputs": [
    {
     "data": {
      "text/plain": [
       "0.8263452131376661"
      ]
     },
     "execution_count": 503,
     "metadata": {},
     "output_type": "execute_result"
    }
   ],
   "source": [
    "#As you can see the LogisticRegression Classifier's ROC curve looks barely better than the SGDClassifier's. \n",
    "#As a result, it's ROC AUC score will also be a little bit better:\n",
    "\n",
    "roc_auc_score(y_train_diabetic, y_decision_scores_logreg) "
   ]
  },
  {
   "cell_type": "code",
   "execution_count": 522,
   "metadata": {},
   "outputs": [],
   "source": [
    "#Let's compare it against our Fine-Tuned KNN Classifier\n",
    "y_probability_knn = cross_val_predict(knn_fine_tuned, top_features, y_train_diabetic,\n",
    "                                         cv=6, method=\"predict_proba\")\n",
    "\n",
    "#Let's compare it against our Fine-Tuned RandomForestClassifier\n",
    "y_probability_rf = cross_val_predict(rf_fine_tuned, top_features, y_train_diabetic,\n",
    "                                         cv=6, method=\"predict_proba\")\n"
   ]
  },
  {
   "cell_type": "code",
   "execution_count": 523,
   "metadata": {},
   "outputs": [],
   "source": [
    "#Let's use the positive class's probability as the score:\n",
    "y_decision_scores_knn = y_probability_knn[:,1]   # scores = probability of positive class \n",
    "\n",
    "fpr_knn, tpr_knn, thresholds_knn = roc_curve(y_train_diabetic, y_decision_scores_knn)\n",
    "\n",
    "\n",
    "#Let's use the positive class's probability as the score:\n",
    "y_decision_scores_rf = y_probability_rf[:,1]   \n",
    "\n",
    "fpr_rf, tpr_rf, thresholds_rf = roc_curve(y_train_diabetic, y_decision_scores_rf)"
   ]
  },
  {
   "cell_type": "code",
   "execution_count": 539,
   "metadata": {},
   "outputs": [
    {
     "data": {
      "image/png": "[encoded data removed]",
      "text/plain": [
       "<Figure size 576x432 with 1 Axes>"
      ]
     },
     "metadata": {
      "needs_background": "light"
     },
     "output_type": "display_data"
    }
   ],
   "source": [
    "#Let's plot all the ROC curves & their AUC score to see how they compare:\n",
    "recall_for_knn = tpr_knn[np.argmax(fpr_knn >= 0.9)]\n",
    "\n",
    "plt.figure(figsize=(8,6))\n",
    "plot_roc_curve(false_positive_rate, true_positive_rate, label=f\"Fine-Tuned SGD AUC: {round(roc_auc_score(y_train_diabetic, y_decision_scores),4)}\")\n",
    "plot_roc_curve(fpr_logreg, tpr_logreg, label=f\"Logistic Regression AUC: {round(roc_auc_score(y_train_diabetic, y_decision_scores_logreg),4)}\")\n",
    "plot_roc_curve(fpr_knn, tpr_knn, label=f\"Fine-Tuned KNN AUC: {round(roc_auc_score(y_train_diabetic, y_decision_scores_knn),4)}\")\n",
    "plot_roc_curve(fpr_rf, tpr_rf, label=f\"Fine-Tuned RandomForest AUC: {round(roc_auc_score(y_train_diabetic, y_decision_scores_rf),4)}\")\n",
    "\n",
    "plt.legend(loc=\"lower right\", fontsize=16)\n",
    "plt.show()"
   ]
  },
  {
   "cell_type": "code",
   "execution_count": 540,
   "metadata": {},
   "outputs": [],
   "source": [
    "#SGD, LogReg & KNN are all pretty much the same in terms of ROC AUC. Although LogReg is slightly better. \n",
    "#We definitely need more data to allow for better prediction of diabetes, as the seriousness of this problem\n",
    "#requires much greater recall/precision & AUC. "
   ]
  }
 ],
 "metadata": {
  "kernelspec": {
   "display_name": "Python 3",
   "language": "python",
   "name": "python3"
  },
  "language_info": {
   "codemirror_mode": {
    "name": "ipython",
    "version": 3
   },
   "file_extension": ".py",
   "mimetype": "text/x-python",
   "name": "python",
   "nbconvert_exporter": "python",
   "pygments_lexer": "ipython3",
   "version": "3.8.5"
  }
 },
 "nbformat": 4,
 "nbformat_minor": 4
}
